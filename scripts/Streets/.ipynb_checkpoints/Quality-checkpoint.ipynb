{
 "cells": [
  {
   "cell_type": "markdown",
   "metadata": {},
   "source": [
    "## Streets aggregated quality\n",
    "\n"
   ]
  },
  {
   "cell_type": "code",
   "execution_count": 480,
   "metadata": {
    "collapsed": true
   },
   "outputs": [],
   "source": [
    "import pandas as pd\n",
    "import numpy as np\n",
    "import geopandas as gp\n",
    "import matplotlib.pyplot as plt\n",
    "import math\n",
    "from sklearn import preprocessing\n",
    "\n",
    "\n",
    "%matplotlib inline"
   ]
  },
  {
   "cell_type": "code",
   "execution_count": 75,
   "metadata": {
    "collapsed": true
   },
   "outputs": [],
   "source": [
    "from shapely.geometry import LineString, Polygon, Point, LinearRing\n",
    "from shapely.ops import transform\n",
    "from functools import partial\n",
    "import pyproj"
   ]
  },
  {
   "cell_type": "markdown",
   "metadata": {},
   "source": [
    "### Data Reading"
   ]
  },
  {
   "cell_type": "code",
   "execution_count": 340,
   "metadata": {
    "collapsed": true
   },
   "outputs": [],
   "source": [
    "nta = gp.GeoDataFrame.from_file('../../data/general/nynta_16b/nynta.shp')\n",
    "trees = gp.GeoDataFrame.from_file('../../data/streets/2015StreetTreeCensusTreeData.geojson')\n",
    "benches = gp.GeoDataFrame.from_file('../../data/streets/citybench/NYC_CityBench.shp')\n",
    "pavements = gp.GeoDataFrame.from_file('../../data/streets/StreetPavementRating.geojson')"
   ]
  },
  {
   "cell_type": "code",
   "execution_count": 416,
   "metadata": {
    "collapsed": false
   },
   "outputs": [],
   "source": [
    "ct_to_nta = pd.read_csv('../../data/general/2010_Census_Tract_to_Neighborhood_Tabulation_Area_Equivalency_table.csv')"
   ]
  },
  {
   "cell_type": "code",
   "execution_count": 436,
   "metadata": {
    "collapsed": false
   },
   "outputs": [],
   "source": [
    "#Generated from arcgis\n",
    "linker_lion = gp.GeoDataFrame.from_file('../../data/general/linklion/linklion.shp')"
   ]
  },
  {
   "cell_type": "code",
   "execution_count": 264,
   "metadata": {
    "collapsed": true
   },
   "outputs": [],
   "source": [
    "link_lion = pd.read_csv('../../data/general/lion_st.csv')"
   ]
  },
  {
   "cell_type": "code",
   "execution_count": 422,
   "metadata": {
    "collapsed": true
   },
   "outputs": [],
   "source": [
    "treescount = pd.read_csv('../../data/streets/treescount.csv')"
   ]
  },
  {
   "cell_type": "markdown",
   "metadata": {},
   "source": [
    "### Data Verification"
   ]
  },
  {
   "cell_type": "code",
   "execution_count": 267,
   "metadata": {
    "collapsed": false
   },
   "outputs": [
    {
     "data": {
      "text/plain": [
       "array([211945, 211946, 211947, ..., 214200, 214201, 214202])"
      ]
     },
     "execution_count": 267,
     "metadata": {},
     "output_type": "execute_result"
    }
   ],
   "source": [
    "pd.unique(sorted(linker_lion['OBJECTID *']))"
   ]
  },
  {
   "cell_type": "code",
   "execution_count": null,
   "metadata": {
    "collapsed": true
   },
   "outputs": [],
   "source": [
    "pd.unique(sorted(snapped_trees['NEAR_FID']))"
   ]
  },
  {
   "cell_type": "code",
   "execution_count": 263,
   "metadata": {
    "collapsed": false,
    "scrolled": true
   },
   "outputs": [
    {
     "data": {
      "text/plain": [
       "(155628,)"
      ]
     },
     "execution_count": 263,
     "metadata": {},
     "output_type": "execute_result"
    }
   ],
   "source": [
    "pd.unique(linker_lion['OBJECTID']).shape"
   ]
  },
  {
   "cell_type": "code",
   "execution_count": 271,
   "metadata": {
    "collapsed": false
   },
   "outputs": [
    {
     "data": {
      "text/plain": [
       "array([     1,      2,      3, ..., 214200, 214201, 214202])"
      ]
     },
     "execution_count": 271,
     "metadata": {},
     "output_type": "execute_result"
    }
   ],
   "source": [
    "pd.unique(sorted(linker_lion['OBJECTID']))"
   ]
  },
  {
   "cell_type": "code",
   "execution_count": 9,
   "metadata": {
    "collapsed": false
   },
   "outputs": [
    {
     "name": "stderr",
     "output_type": "stream",
     "text": [
      "ERROR:Fiona:OGR Error 1: fread(6673) failed on DBF file.\n",
      "\n"
     ]
    }
   ],
   "source": [
    "snapped_trees = gp.GeoDataFrame.from_file('../../data/streets/street_trees/street_trees.shp')"
   ]
  },
  {
   "cell_type": "markdown",
   "metadata": {},
   "source": [
    "### Data Exploration"
   ]
  },
  {
   "cell_type": "code",
   "execution_count": 399,
   "metadata": {
    "collapsed": false
   },
   "outputs": [
    {
     "data": {
      "text/html": [
       "<div style=\"max-height:1000px;max-width:1500px;overflow:auto;\">\n",
       "<table border=\"1\" class=\"dataframe\">\n",
       "  <thead>\n",
       "    <tr style=\"text-align: right;\">\n",
       "      <th></th>\n",
       "      <th>Borough</th>\n",
       "      <th>2010 Census Bureau FIPS County Code</th>\n",
       "      <th>2010 NYC Borough Code</th>\n",
       "      <th>2010 Census Tract</th>\n",
       "      <th>PUMA</th>\n",
       "      <th>Neighborhood Tabulation Area (NTA)Code</th>\n",
       "      <th>Neighborhood Tabulation Area (NTA) Name</th>\n",
       "    </tr>\n",
       "  </thead>\n",
       "  <tbody>\n",
       "    <tr>\n",
       "      <th>0</th>\n",
       "      <td>Bronx</td>\n",
       "      <td>5</td>\n",
       "      <td>2</td>\n",
       "      <td>031000</td>\n",
       "      <td>3704</td>\n",
       "      <td>BX31</td>\n",
       "      <td>Allerton-Pelham Gardens</td>\n",
       "    </tr>\n",
       "    <tr>\n",
       "      <th>1</th>\n",
       "      <td>Bronx</td>\n",
       "      <td>5</td>\n",
       "      <td>2</td>\n",
       "      <td>031200</td>\n",
       "      <td>3704</td>\n",
       "      <td>BX31</td>\n",
       "      <td>Allerton-Pelham Gardens</td>\n",
       "    </tr>\n",
       "    <tr>\n",
       "      <th>2</th>\n",
       "      <td>Bronx</td>\n",
       "      <td>5</td>\n",
       "      <td>2</td>\n",
       "      <td>031400</td>\n",
       "      <td>3704</td>\n",
       "      <td>BX31</td>\n",
       "      <td>Allerton-Pelham Gardens</td>\n",
       "    </tr>\n",
       "    <tr>\n",
       "      <th>3</th>\n",
       "      <td>Bronx</td>\n",
       "      <td>5</td>\n",
       "      <td>2</td>\n",
       "      <td>031600</td>\n",
       "      <td>3704</td>\n",
       "      <td>BX31</td>\n",
       "      <td>Allerton-Pelham Gardens</td>\n",
       "    </tr>\n",
       "    <tr>\n",
       "      <th>4</th>\n",
       "      <td>Bronx</td>\n",
       "      <td>5</td>\n",
       "      <td>2</td>\n",
       "      <td>031800</td>\n",
       "      <td>3704</td>\n",
       "      <td>BX31</td>\n",
       "      <td>Allerton-Pelham Gardens</td>\n",
       "    </tr>\n",
       "  </tbody>\n",
       "</table>\n",
       "</div>"
      ],
      "text/plain": [
       "  Borough  2010 Census Bureau FIPS County Code  2010 NYC Borough Code  \\\n",
       "0   Bronx                                    5                      2   \n",
       "1   Bronx                                    5                      2   \n",
       "2   Bronx                                    5                      2   \n",
       "3   Bronx                                    5                      2   \n",
       "4   Bronx                                    5                      2   \n",
       "\n",
       "  2010 Census Tract  PUMA Neighborhood Tabulation Area (NTA)Code  \\\n",
       "0            031000  3704                                   BX31   \n",
       "1            031200  3704                                   BX31   \n",
       "2            031400  3704                                   BX31   \n",
       "3            031600  3704                                   BX31   \n",
       "4            031800  3704                                   BX31   \n",
       "\n",
       "  Neighborhood Tabulation Area (NTA) Name  \n",
       "0                 Allerton-Pelham Gardens  \n",
       "1                 Allerton-Pelham Gardens  \n",
       "2                 Allerton-Pelham Gardens  \n",
       "3                 Allerton-Pelham Gardens  \n",
       "4                 Allerton-Pelham Gardens  "
      ]
     },
     "execution_count": 399,
     "metadata": {},
     "output_type": "execute_result"
    }
   ],
   "source": [
    "ct_to_nta.head()"
   ]
  },
  {
   "cell_type": "code",
   "execution_count": 341,
   "metadata": {
    "collapsed": false
   },
   "outputs": [
    {
     "data": {
      "text/html": [
       "<div style=\"max-height:1000px;max-width:1500px;overflow:auto;\">\n",
       "<table border=\"1\" class=\"dataframe\">\n",
       "  <thead>\n",
       "    <tr style=\"text-align: right;\">\n",
       "      <th></th>\n",
       "      <th>BoroCode</th>\n",
       "      <th>BoroName</th>\n",
       "      <th>CountyFIPS</th>\n",
       "      <th>NTACode</th>\n",
       "      <th>NTAName</th>\n",
       "      <th>Shape_Area</th>\n",
       "      <th>Shape_Leng</th>\n",
       "      <th>geometry</th>\n",
       "    </tr>\n",
       "  </thead>\n",
       "  <tbody>\n",
       "    <tr>\n",
       "      <th>0</th>\n",
       "      <td>3</td>\n",
       "      <td>Brooklyn</td>\n",
       "      <td>047</td>\n",
       "      <td>BK88</td>\n",
       "      <td>Borough Park</td>\n",
       "      <td>54005019.0709</td>\n",
       "      <td>39247.228028</td>\n",
       "      <td>POLYGON ((990897.9000244141 169268.1207885742,...</td>\n",
       "    </tr>\n",
       "    <tr>\n",
       "      <th>1</th>\n",
       "      <td>4</td>\n",
       "      <td>Queens</td>\n",
       "      <td>081</td>\n",
       "      <td>QN52</td>\n",
       "      <td>East Flushing</td>\n",
       "      <td>29454380.0175</td>\n",
       "      <td>25843.364934</td>\n",
       "      <td>POLYGON ((1041061.948242188 215429.4609985352,...</td>\n",
       "    </tr>\n",
       "    <tr>\n",
       "      <th>2</th>\n",
       "      <td>4</td>\n",
       "      <td>Queens</td>\n",
       "      <td>081</td>\n",
       "      <td>QN48</td>\n",
       "      <td>Auburndale</td>\n",
       "      <td>34164217.6495</td>\n",
       "      <td>32446.878764</td>\n",
       "      <td>POLYGON ((1046392.971191406 210169.7536010742,...</td>\n",
       "    </tr>\n",
       "    <tr>\n",
       "      <th>3</th>\n",
       "      <td>4</td>\n",
       "      <td>Queens</td>\n",
       "      <td>081</td>\n",
       "      <td>QN51</td>\n",
       "      <td>Murray Hill</td>\n",
       "      <td>52488277.2938</td>\n",
       "      <td>33266.904732</td>\n",
       "      <td>POLYGON ((1038593.459228516 221913.3550415039,...</td>\n",
       "    </tr>\n",
       "    <tr>\n",
       "      <th>4</th>\n",
       "      <td>4</td>\n",
       "      <td>Queens</td>\n",
       "      <td>081</td>\n",
       "      <td>QN27</td>\n",
       "      <td>East Elmhurst</td>\n",
       "      <td>19726846.0178</td>\n",
       "      <td>19816.712339</td>\n",
       "      <td>POLYGON ((1022728.274841309 217530.8084106445,...</td>\n",
       "    </tr>\n",
       "  </tbody>\n",
       "</table>\n",
       "</div>"
      ],
      "text/plain": [
       "   BoroCode  BoroName CountyFIPS NTACode        NTAName     Shape_Area  \\\n",
       "0         3  Brooklyn        047    BK88   Borough Park  54005019.0709   \n",
       "1         4    Queens        081    QN52  East Flushing  29454380.0175   \n",
       "2         4    Queens        081    QN48     Auburndale  34164217.6495   \n",
       "3         4    Queens        081    QN51    Murray Hill  52488277.2938   \n",
       "4         4    Queens        081    QN27  East Elmhurst  19726846.0178   \n",
       "\n",
       "     Shape_Leng                                           geometry  \n",
       "0  39247.228028  POLYGON ((990897.9000244141 169268.1207885742,...  \n",
       "1  25843.364934  POLYGON ((1041061.948242188 215429.4609985352,...  \n",
       "2  32446.878764  POLYGON ((1046392.971191406 210169.7536010742,...  \n",
       "3  33266.904732  POLYGON ((1038593.459228516 221913.3550415039,...  \n",
       "4  19816.712339  POLYGON ((1022728.274841309 217530.8084106445,...  "
      ]
     },
     "execution_count": 341,
     "metadata": {},
     "output_type": "execute_result"
    }
   ],
   "source": [
    "nta.head()"
   ]
  },
  {
   "cell_type": "code",
   "execution_count": 454,
   "metadata": {
    "collapsed": false,
    "scrolled": true
   },
   "outputs": [
    {
     "data": {
      "text/html": [
       "<div style=\"max-height:1000px;max-width:1500px;overflow:auto;\">\n",
       "<table border=\"1\" class=\"dataframe\">\n",
       "  <thead>\n",
       "    <tr style=\"text-align: right;\">\n",
       "      <th></th>\n",
       "      <th>nta</th>\n",
       "      <th>NTA</th>\n",
       "      <th>count</th>\n",
       "    </tr>\n",
       "  </thead>\n",
       "  <tbody>\n",
       "    <tr>\n",
       "      <th>0</th>\n",
       "      <td></td>\n",
       "      <td></td>\n",
       "      <td>24027</td>\n",
       "    </tr>\n",
       "    <tr>\n",
       "      <th>1</th>\n",
       "      <td>BK09</td>\n",
       "      <td>BK09</td>\n",
       "      <td>2079</td>\n",
       "    </tr>\n",
       "    <tr>\n",
       "      <th>2</th>\n",
       "      <td>BK17</td>\n",
       "      <td>BK17</td>\n",
       "      <td>5275</td>\n",
       "    </tr>\n",
       "    <tr>\n",
       "      <th>3</th>\n",
       "      <td>BK19</td>\n",
       "      <td>BK19</td>\n",
       "      <td>1055</td>\n",
       "    </tr>\n",
       "    <tr>\n",
       "      <th>4</th>\n",
       "      <td>BK21</td>\n",
       "      <td>BK21</td>\n",
       "      <td>1398</td>\n",
       "    </tr>\n",
       "  </tbody>\n",
       "</table>\n",
       "</div>"
      ],
      "text/plain": [
       "    nta   NTA  count\n",
       "0              24027\n",
       "1  BK09  BK09   2079\n",
       "2  BK17  BK17   5275\n",
       "3  BK19  BK19   1055\n",
       "4  BK21  BK21   1398"
      ]
     },
     "execution_count": 454,
     "metadata": {},
     "output_type": "execute_result"
    }
   ],
   "source": [
    "treescount.head()"
   ]
  },
  {
   "cell_type": "code",
   "execution_count": 11,
   "metadata": {
    "collapsed": false
   },
   "outputs": [
    {
     "data": {
      "text/plain": [
       "Index([ u'NEAR_DIST',   u'NEAR_FID',    u'address',   u'block_id',\n",
       "          u'boro_ct',   u'borocode',   u'boroname', u'brch_light',\n",
       "       u'brch_other',  u'brch_shoe',     u'cb_num',   u'cncldist',\n",
       "         u'curb_loc', u'date_creat',   u'geometry',     u'guards',\n",
       "           u'health',   u'latitude',  u'longitude',        u'nta',\n",
       "         u'nta_name', u'root_grate', u'root_other', u'root_stone',\n",
       "         u'sidewalk', u'spc_common',  u'spc_latin',   u'st_assem',\n",
       "        u'st_senate',      u'state',     u'status',    u'steward',\n",
       "       u'stump_diam', u'time_creat',   u'tree_dbh',    u'tree_id',\n",
       "       u'trnk_light', u'trnk_other', u'trunk_wire',  u'user_type',\n",
       "             u'x_sp',       u'y_sp',   u'zip_city',    u'zipcode'],\n",
       "      dtype='object')"
      ]
     },
     "execution_count": 11,
     "metadata": {},
     "output_type": "execute_result"
    }
   ],
   "source": [
    "snapped_trees.columns"
   ]
  },
  {
   "cell_type": "code",
   "execution_count": 269,
   "metadata": {
    "collapsed": false
   },
   "outputs": [
    {
     "data": {
      "text/plain": [
       "array([     0,      2,      8, ..., 214114, 214186, 214196])"
      ]
     },
     "execution_count": 269,
     "metadata": {},
     "output_type": "execute_result"
    }
   ],
   "source": [
    "pd.unique(sorted(snapped_trees['NEAR_FID']))"
   ]
  },
  {
   "cell_type": "code",
   "execution_count": 14,
   "metadata": {
    "collapsed": true
   },
   "outputs": [],
   "source": [
    "#Abandoning use of lion geojson\n",
    "lion = gp.GeoDataFrame.from_file('../../data/general/lion.geojson')"
   ]
  },
  {
   "cell_type": "code",
   "execution_count": 279,
   "metadata": {
    "collapsed": false
   },
   "outputs": [
    {
     "data": {
      "text/html": [
       "<div style=\"max-height:1000px;max-width:1500px;overflow:auto;\">\n",
       "<table border=\"1\" class=\"dataframe\">\n",
       "  <thead>\n",
       "    <tr style=\"text-align: right;\">\n",
       "      <th></th>\n",
       "      <th>ArcCenterX</th>\n",
       "      <th>ArcCenterY</th>\n",
       "      <th>BOE_LGC</th>\n",
       "      <th>BikeLane</th>\n",
       "      <th>BoroBndry</th>\n",
       "      <th>Carto_Display_Level</th>\n",
       "      <th>ConParity</th>\n",
       "      <th>CurveFlag</th>\n",
       "      <th>FCC</th>\n",
       "      <th>FDNYID</th>\n",
       "      <th>...</th>\n",
       "      <th>ToRight</th>\n",
       "      <th>TrafDir</th>\n",
       "      <th>TrafSrc</th>\n",
       "      <th>Twisted</th>\n",
       "      <th>XFrom</th>\n",
       "      <th>XTo</th>\n",
       "      <th>YFrom</th>\n",
       "      <th>YTo</th>\n",
       "      <th>geometry</th>\n",
       "      <th>length</th>\n",
       "    </tr>\n",
       "  </thead>\n",
       "  <tbody>\n",
       "    <tr>\n",
       "      <th>0</th>\n",
       "      <td>0</td>\n",
       "      <td>0</td>\n",
       "      <td>1</td>\n",
       "      <td></td>\n",
       "      <td></td>\n",
       "      <td>None</td>\n",
       "      <td></td>\n",
       "      <td></td>\n",
       "      <td></td>\n",
       "      <td></td>\n",
       "      <td>...</td>\n",
       "      <td>716</td>\n",
       "      <td>T</td>\n",
       "      <td>DOT</td>\n",
       "      <td></td>\n",
       "      <td>1010964</td>\n",
       "      <td>1011265</td>\n",
       "      <td>241812</td>\n",
       "      <td>241555</td>\n",
       "      <td>LINESTRING (-73.9034682815071 40.8303620794707...</td>\n",
       "      <td>LINESTRING (-5721500.027961497 10249394.262910...</td>\n",
       "    </tr>\n",
       "    <tr>\n",
       "      <th>1</th>\n",
       "      <td>0</td>\n",
       "      <td>0</td>\n",
       "      <td>1</td>\n",
       "      <td></td>\n",
       "      <td></td>\n",
       "      <td>None</td>\n",
       "      <td></td>\n",
       "      <td></td>\n",
       "      <td></td>\n",
       "      <td></td>\n",
       "      <td>...</td>\n",
       "      <td>99</td>\n",
       "      <td>A</td>\n",
       "      <td>DOT</td>\n",
       "      <td></td>\n",
       "      <td>1011577</td>\n",
       "      <td>1011335</td>\n",
       "      <td>255024</td>\n",
       "      <td>255164</td>\n",
       "      <td>LINESTRING (-73.901202101452 40.8666213684178,...</td>\n",
       "      <td>LINESTRING (-5713601.216451461 10247055.556509...</td>\n",
       "    </tr>\n",
       "    <tr>\n",
       "      <th>2</th>\n",
       "      <td>0</td>\n",
       "      <td>0</td>\n",
       "      <td>1</td>\n",
       "      <td></td>\n",
       "      <td></td>\n",
       "      <td>None</td>\n",
       "      <td></td>\n",
       "      <td></td>\n",
       "      <td></td>\n",
       "      <td></td>\n",
       "      <td>...</td>\n",
       "      <td>1084</td>\n",
       "      <td>W</td>\n",
       "      <td>DOT</td>\n",
       "      <td></td>\n",
       "      <td>1011601</td>\n",
       "      <td>1011786</td>\n",
       "      <td>239640</td>\n",
       "      <td>240230</td>\n",
       "      <td>LINESTRING (-73.9011781129234 40.8243971910923...</td>\n",
       "      <td>LINESTRING (-5722839.775339834 10249336.092523...</td>\n",
       "    </tr>\n",
       "    <tr>\n",
       "      <th>3</th>\n",
       "      <td>0</td>\n",
       "      <td>0</td>\n",
       "      <td>1</td>\n",
       "      <td></td>\n",
       "      <td></td>\n",
       "      <td>None</td>\n",
       "      <td></td>\n",
       "      <td></td>\n",
       "      <td></td>\n",
       "      <td></td>\n",
       "      <td>...</td>\n",
       "      <td>0</td>\n",
       "      <td>W</td>\n",
       "      <td>DOT</td>\n",
       "      <td></td>\n",
       "      <td>1011601</td>\n",
       "      <td>1011786</td>\n",
       "      <td>239640</td>\n",
       "      <td>240230</td>\n",
       "      <td>LINESTRING (-73.9011781129234 40.8243971910923...</td>\n",
       "      <td>LINESTRING (-5722839.775339834 10249336.092523...</td>\n",
       "    </tr>\n",
       "    <tr>\n",
       "      <th>4</th>\n",
       "      <td>0</td>\n",
       "      <td>0</td>\n",
       "      <td>1</td>\n",
       "      <td></td>\n",
       "      <td></td>\n",
       "      <td>None</td>\n",
       "      <td></td>\n",
       "      <td></td>\n",
       "      <td></td>\n",
       "      <td></td>\n",
       "      <td>...</td>\n",
       "      <td>4664</td>\n",
       "      <td>T</td>\n",
       "      <td>DOT</td>\n",
       "      <td></td>\n",
       "      <td>1009974</td>\n",
       "      <td>1009974</td>\n",
       "      <td>264857</td>\n",
       "      <td>265527</td>\n",
       "      <td>LINESTRING (-73.9069580625364 40.893616230432,...</td>\n",
       "      <td>LINESTRING (-5707620.114578055 10246550.255027...</td>\n",
       "    </tr>\n",
       "  </tbody>\n",
       "</table>\n",
       "<p>5 rows × 115 columns</p>\n",
       "</div>"
      ],
      "text/plain": [
       "   ArcCenterX  ArcCenterY BOE_LGC BikeLane BoroBndry Carto_Display_Level  \\\n",
       "0           0           0       1                                   None   \n",
       "1           0           0       1                                   None   \n",
       "2           0           0       1                                   None   \n",
       "3           0           0       1                                   None   \n",
       "4           0           0       1                                   None   \n",
       "\n",
       "  ConParity CurveFlag FCC   FDNYID  \\\n",
       "0                                    \n",
       "1                                    \n",
       "2                                    \n",
       "3                                    \n",
       "4                                    \n",
       "\n",
       "                         ...                         ToRight TrafDir  TrafSrc  \\\n",
       "0                        ...                             716       T      DOT   \n",
       "1                        ...                              99       A      DOT   \n",
       "2                        ...                            1084       W      DOT   \n",
       "3                        ...                               0       W      DOT   \n",
       "4                        ...                            4664       T      DOT   \n",
       "\n",
       "   Twisted    XFrom      XTo   YFrom     YTo  \\\n",
       "0           1010964  1011265  241812  241555   \n",
       "1           1011577  1011335  255024  255164   \n",
       "2           1011601  1011786  239640  240230   \n",
       "3           1011601  1011786  239640  240230   \n",
       "4           1009974  1009974  264857  265527   \n",
       "\n",
       "                                            geometry  \\\n",
       "0  LINESTRING (-73.9034682815071 40.8303620794707...   \n",
       "1  LINESTRING (-73.901202101452 40.8666213684178,...   \n",
       "2  LINESTRING (-73.9011781129234 40.8243971910923...   \n",
       "3  LINESTRING (-73.9011781129234 40.8243971910923...   \n",
       "4  LINESTRING (-73.9069580625364 40.893616230432,...   \n",
       "\n",
       "                                              length  \n",
       "0  LINESTRING (-5721500.027961497 10249394.262910...  \n",
       "1  LINESTRING (-5713601.216451461 10247055.556509...  \n",
       "2  LINESTRING (-5722839.775339834 10249336.092523...  \n",
       "3  LINESTRING (-5722839.775339834 10249336.092523...  \n",
       "4  LINESTRING (-5707620.114578055 10246550.255027...  \n",
       "\n",
       "[5 rows x 115 columns]"
      ]
     },
     "execution_count": 279,
     "metadata": {},
     "output_type": "execute_result"
    }
   ],
   "source": [
    "lion.head()"
   ]
  },
  {
   "cell_type": "code",
   "execution_count": 274,
   "metadata": {
    "collapsed": false
   },
   "outputs": [
    {
     "name": "stdout",
     "output_type": "stream",
     "text": [
      "Index([         u'ArcCenterX',          u'ArcCenterY',             u'BOE_LGC',\n",
      "                  u'BikeLane',           u'BoroBndry', u'Carto_Display_Level',\n",
      "                 u'ConParity',           u'CurveFlag',                 u'FCC',\n",
      "                    u'FDNYID', \n",
      "       ...\n",
      "                   u'ToRight',             u'TrafDir',             u'TrafSrc',\n",
      "                   u'Twisted',               u'XFrom',                 u'XTo',\n",
      "                     u'YFrom',                 u'YTo',            u'geometry',\n",
      "                    u'length'],\n",
      "      dtype='object', length=115)\n"
     ]
    }
   ],
   "source": [
    "print str(lion.columns)"
   ]
  },
  {
   "cell_type": "code",
   "execution_count": 287,
   "metadata": {
    "collapsed": false
   },
   "outputs": [
    {
     "data": {
      "text/plain": [
       "292"
      ]
     },
     "execution_count": 287,
     "metadata": {},
     "output_type": "execute_result"
    }
   ],
   "source": [
    "#Columns being used - LCT2010\n",
    "#\n",
    "#\n",
    "len(pd.unique(lion['LCT2010']))"
   ]
  },
  {
   "cell_type": "code",
   "execution_count": 290,
   "metadata": {
    "collapsed": false
   },
   "outputs": [
    {
     "data": {
      "text/plain": [
       "70"
      ]
     },
     "execution_count": 290,
     "metadata": {},
     "output_type": "execute_result"
    }
   ],
   "source": [
    "len(pd.unique(linker_lion['RCT2010']))"
   ]
  },
  {
   "cell_type": "code",
   "execution_count": 3,
   "metadata": {
    "collapsed": false
   },
   "outputs": [
    {
     "data": {
      "text/html": [
       "<div style=\"max-height:1000px;max-width:1500px;overflow:auto;\">\n",
       "<table border=\"1\" class=\"dataframe\">\n",
       "  <thead>\n",
       "    <tr style=\"text-align: right;\">\n",
       "      <th></th>\n",
       "      <th>BoroCode</th>\n",
       "      <th>BoroName</th>\n",
       "      <th>CountyFIPS</th>\n",
       "      <th>NTACode</th>\n",
       "      <th>NTAName</th>\n",
       "      <th>OBJECTID</th>\n",
       "      <th>geometry</th>\n",
       "    </tr>\n",
       "  </thead>\n",
       "  <tbody>\n",
       "    <tr>\n",
       "      <th>0</th>\n",
       "      <td>3</td>\n",
       "      <td>Brooklyn</td>\n",
       "      <td>047</td>\n",
       "      <td>BK88</td>\n",
       "      <td>Borough Park</td>\n",
       "      <td>1</td>\n",
       "      <td>POLYGON ((-73.9760507905698 40.6312841471042, ...</td>\n",
       "    </tr>\n",
       "    <tr>\n",
       "      <th>1</th>\n",
       "      <td>4</td>\n",
       "      <td>Queens</td>\n",
       "      <td>081</td>\n",
       "      <td>QN52</td>\n",
       "      <td>East Flushing</td>\n",
       "      <td>2</td>\n",
       "      <td>POLYGON ((-73.79493384594591 40.7578063026709,...</td>\n",
       "    </tr>\n",
       "    <tr>\n",
       "      <th>2</th>\n",
       "      <td>4</td>\n",
       "      <td>Queens</td>\n",
       "      <td>081</td>\n",
       "      <td>QN48</td>\n",
       "      <td>Auburndale</td>\n",
       "      <td>3</td>\n",
       "      <td>POLYGON ((-73.7757397458527 40.7433339175923, ...</td>\n",
       "    </tr>\n",
       "    <tr>\n",
       "      <th>3</th>\n",
       "      <td>4</td>\n",
       "      <td>Queens</td>\n",
       "      <td>081</td>\n",
       "      <td>QN51</td>\n",
       "      <td>Murray Hill</td>\n",
       "      <td>4</td>\n",
       "      <td>POLYGON ((-73.8037916164017 40.7756183875692, ...</td>\n",
       "    </tr>\n",
       "    <tr>\n",
       "      <th>4</th>\n",
       "      <td>4</td>\n",
       "      <td>Queens</td>\n",
       "      <td>081</td>\n",
       "      <td>QN27</td>\n",
       "      <td>East Elmhurst</td>\n",
       "      <td>5</td>\n",
       "      <td>POLYGON ((-73.8610986491861 40.7636727490283, ...</td>\n",
       "    </tr>\n",
       "  </tbody>\n",
       "</table>\n",
       "</div>"
      ],
      "text/plain": [
       "   BoroCode  BoroName CountyFIPS NTACode        NTAName  OBJECTID  \\\n",
       "0         3  Brooklyn        047    BK88   Borough Park         1   \n",
       "1         4    Queens        081    QN52  East Flushing         2   \n",
       "2         4    Queens        081    QN48     Auburndale         3   \n",
       "3         4    Queens        081    QN51    Murray Hill         4   \n",
       "4         4    Queens        081    QN27  East Elmhurst         5   \n",
       "\n",
       "                                            geometry  \n",
       "0  POLYGON ((-73.9760507905698 40.6312841471042, ...  \n",
       "1  POLYGON ((-73.79493384594591 40.7578063026709,...  \n",
       "2  POLYGON ((-73.7757397458527 40.7433339175923, ...  \n",
       "3  POLYGON ((-73.8037916164017 40.7756183875692, ...  \n",
       "4  POLYGON ((-73.8610986491861 40.7636727490283, ...  "
      ]
     },
     "execution_count": 3,
     "metadata": {},
     "output_type": "execute_result"
    }
   ],
   "source": [
    "nta.head()"
   ]
  },
  {
   "cell_type": "code",
   "execution_count": 4,
   "metadata": {
    "collapsed": false
   },
   "outputs": [
    {
     "data": {
      "text/html": [
       "<div style=\"max-height:1000px;max-width:1500px;overflow:auto;\">\n",
       "<table border=\"1\" class=\"dataframe\">\n",
       "  <thead>\n",
       "    <tr style=\"text-align: right;\">\n",
       "      <th></th>\n",
       "      <th>address</th>\n",
       "      <th>block_id</th>\n",
       "      <th>boro_ct</th>\n",
       "      <th>borocode</th>\n",
       "      <th>boroname</th>\n",
       "      <th>brch_light</th>\n",
       "      <th>brch_other</th>\n",
       "      <th>brch_shoe</th>\n",
       "      <th>cb_num</th>\n",
       "      <th>cncldist</th>\n",
       "      <th>...</th>\n",
       "      <th>tree_dbh</th>\n",
       "      <th>tree_id</th>\n",
       "      <th>trnk_light</th>\n",
       "      <th>trnk_other</th>\n",
       "      <th>trunk_wire</th>\n",
       "      <th>user_type</th>\n",
       "      <th>x_sp</th>\n",
       "      <th>y_sp</th>\n",
       "      <th>zip_city</th>\n",
       "      <th>zipcode</th>\n",
       "    </tr>\n",
       "  </thead>\n",
       "  <tbody>\n",
       "    <tr>\n",
       "      <th>0</th>\n",
       "      <td>45 DUPONT STREET</td>\n",
       "      <td>216486</td>\n",
       "      <td>3056300</td>\n",
       "      <td>3</td>\n",
       "      <td>Brooklyn</td>\n",
       "      <td>No</td>\n",
       "      <td>No</td>\n",
       "      <td>No</td>\n",
       "      <td>301</td>\n",
       "      <td>33</td>\n",
       "      <td>...</td>\n",
       "      <td>4</td>\n",
       "      <td>101233</td>\n",
       "      <td>No</td>\n",
       "      <td>No</td>\n",
       "      <td>No</td>\n",
       "      <td>Volunteer</td>\n",
       "      <td>995754.899878</td>\n",
       "      <td>207355.752989</td>\n",
       "      <td>Brooklyn</td>\n",
       "      <td>11222</td>\n",
       "    </tr>\n",
       "    <tr>\n",
       "      <th>1</th>\n",
       "      <td>2 CLAY STREET</td>\n",
       "      <td>216486</td>\n",
       "      <td>3056300</td>\n",
       "      <td>3</td>\n",
       "      <td>Brooklyn</td>\n",
       "      <td>No</td>\n",
       "      <td>No</td>\n",
       "      <td>No</td>\n",
       "      <td>301</td>\n",
       "      <td>33</td>\n",
       "      <td>...</td>\n",
       "      <td>4</td>\n",
       "      <td>101234</td>\n",
       "      <td>No</td>\n",
       "      <td>No</td>\n",
       "      <td>No</td>\n",
       "      <td>Volunteer</td>\n",
       "      <td>995747.63677</td>\n",
       "      <td>207412.792245</td>\n",
       "      <td>Brooklyn</td>\n",
       "      <td>11222</td>\n",
       "    </tr>\n",
       "    <tr>\n",
       "      <th>2</th>\n",
       "      <td>2 CLAY STREET</td>\n",
       "      <td>216486</td>\n",
       "      <td>3056300</td>\n",
       "      <td>3</td>\n",
       "      <td>Brooklyn</td>\n",
       "      <td>No</td>\n",
       "      <td>No</td>\n",
       "      <td>No</td>\n",
       "      <td>301</td>\n",
       "      <td>33</td>\n",
       "      <td>...</td>\n",
       "      <td>4</td>\n",
       "      <td>101235</td>\n",
       "      <td>No</td>\n",
       "      <td>No</td>\n",
       "      <td>No</td>\n",
       "      <td>Volunteer</td>\n",
       "      <td>995743.885137</td>\n",
       "      <td>207442.254128</td>\n",
       "      <td>Brooklyn</td>\n",
       "      <td>11222</td>\n",
       "    </tr>\n",
       "    <tr>\n",
       "      <th>3</th>\n",
       "      <td>237 FRANKLIN STREET</td>\n",
       "      <td>216291</td>\n",
       "      <td>3056300</td>\n",
       "      <td>3</td>\n",
       "      <td>Brooklyn</td>\n",
       "      <td>Yes</td>\n",
       "      <td>No</td>\n",
       "      <td>No</td>\n",
       "      <td>301</td>\n",
       "      <td>33</td>\n",
       "      <td>...</td>\n",
       "      <td>15</td>\n",
       "      <td>101400</td>\n",
       "      <td>No</td>\n",
       "      <td>No</td>\n",
       "      <td>No</td>\n",
       "      <td>Volunteer</td>\n",
       "      <td>995653.777377</td>\n",
       "      <td>207228.768335</td>\n",
       "      <td>Brooklyn</td>\n",
       "      <td>11222</td>\n",
       "    </tr>\n",
       "    <tr>\n",
       "      <th>4</th>\n",
       "      <td>237 FRANKLIN STREET</td>\n",
       "      <td>216291</td>\n",
       "      <td>3056300</td>\n",
       "      <td>3</td>\n",
       "      <td>Brooklyn</td>\n",
       "      <td>Yes</td>\n",
       "      <td>No</td>\n",
       "      <td>No</td>\n",
       "      <td>301</td>\n",
       "      <td>33</td>\n",
       "      <td>...</td>\n",
       "      <td>18</td>\n",
       "      <td>101401</td>\n",
       "      <td>No</td>\n",
       "      <td>No</td>\n",
       "      <td>No</td>\n",
       "      <td>Volunteer</td>\n",
       "      <td>995616.258095</td>\n",
       "      <td>207224.169263</td>\n",
       "      <td>Brooklyn</td>\n",
       "      <td>11222</td>\n",
       "    </tr>\n",
       "  </tbody>\n",
       "</table>\n",
       "<p>5 rows × 41 columns</p>\n",
       "</div>"
      ],
      "text/plain": [
       "               address block_id  boro_ct borocode  boroname brch_light  \\\n",
       "0     45 DUPONT STREET   216486  3056300        3  Brooklyn         No   \n",
       "1        2 CLAY STREET   216486  3056300        3  Brooklyn         No   \n",
       "2        2 CLAY STREET   216486  3056300        3  Brooklyn         No   \n",
       "3  237 FRANKLIN STREET   216291  3056300        3  Brooklyn        Yes   \n",
       "4  237 FRANKLIN STREET   216291  3056300        3  Brooklyn        Yes   \n",
       "\n",
       "  brch_other brch_shoe cb_num cncldist   ...   tree_dbh tree_id trnk_light  \\\n",
       "0         No        No    301       33   ...          4  101233         No   \n",
       "1         No        No    301       33   ...          4  101234         No   \n",
       "2         No        No    301       33   ...          4  101235         No   \n",
       "3         No        No    301       33   ...         15  101400         No   \n",
       "4         No        No    301       33   ...         18  101401         No   \n",
       "\n",
       "  trnk_other trunk_wire  user_type           x_sp           y_sp  zip_city  \\\n",
       "0         No         No  Volunteer  995754.899878  207355.752989  Brooklyn   \n",
       "1         No         No  Volunteer   995747.63677  207412.792245  Brooklyn   \n",
       "2         No         No  Volunteer  995743.885137  207442.254128  Brooklyn   \n",
       "3         No         No  Volunteer  995653.777377  207228.768335  Brooklyn   \n",
       "4         No         No  Volunteer  995616.258095  207224.169263  Brooklyn   \n",
       "\n",
       "  zipcode  \n",
       "0   11222  \n",
       "1   11222  \n",
       "2   11222  \n",
       "3   11222  \n",
       "4   11222  \n",
       "\n",
       "[5 rows x 41 columns]"
      ]
     },
     "execution_count": 4,
     "metadata": {},
     "output_type": "execute_result"
    }
   ],
   "source": [
    "trees.head()"
   ]
  },
  {
   "cell_type": "code",
   "execution_count": 5,
   "metadata": {
    "collapsed": false
   },
   "outputs": [
    {
     "data": {
      "text/plain": [
       "Index([   u'address',   u'block_id',    u'boro_ct',   u'borocode',\n",
       "         u'boroname', u'brch_light', u'brch_other',  u'brch_shoe',\n",
       "           u'cb_num',   u'cncldist', u'created_at',   u'curb_loc',\n",
       "         u'geometry',     u'guards',     u'health',   u'latitude',\n",
       "        u'longitude',        u'nta',   u'nta_name', u'root_grate',\n",
       "       u'root_other', u'root_stone',   u'sidewalk', u'spc_common',\n",
       "        u'spc_latin',   u'st_assem',  u'st_senate',      u'state',\n",
       "           u'status',    u'steward', u'stump_diam',   u'tree_dbh',\n",
       "          u'tree_id', u'trnk_light', u'trnk_other', u'trunk_wire',\n",
       "        u'user_type',       u'x_sp',       u'y_sp',   u'zip_city',\n",
       "          u'zipcode'],\n",
       "      dtype='object')"
      ]
     },
     "execution_count": 5,
     "metadata": {},
     "output_type": "execute_result"
    }
   ],
   "source": [
    "trees.columns"
   ]
  },
  {
   "cell_type": "code",
   "execution_count": 286,
   "metadata": {
    "collapsed": false
   },
   "outputs": [
    {
     "data": {
      "text/plain": [
       "2082"
      ]
     },
     "execution_count": 286,
     "metadata": {},
     "output_type": "execute_result"
    }
   ],
   "source": [
    "len(pd.unique(trees['boro_ct']))"
   ]
  },
  {
   "cell_type": "code",
   "execution_count": 6,
   "metadata": {
    "collapsed": false
   },
   "outputs": [
    {
     "data": {
      "text/html": [
       "<div style=\"max-height:1000px;max-width:1500px;overflow:auto;\">\n",
       "<table border=\"1\" class=\"dataframe\">\n",
       "  <thead>\n",
       "    <tr style=\"text-align: right;\">\n",
       "      <th></th>\n",
       "      <th>Address</th>\n",
       "      <th>BID</th>\n",
       "      <th>BenchID</th>\n",
       "      <th>Borough</th>\n",
       "      <th>Bus_Route</th>\n",
       "      <th>Category</th>\n",
       "      <th>ComDist</th>\n",
       "      <th>Geocode_Ad</th>\n",
       "      <th>Installati</th>\n",
       "      <th>SiteID</th>\n",
       "      <th>Street</th>\n",
       "      <th>Type</th>\n",
       "      <th>X_Street</th>\n",
       "      <th>geometry</th>\n",
       "    </tr>\n",
       "  </thead>\n",
       "  <tbody>\n",
       "    <tr>\n",
       "      <th>0</th>\n",
       "      <td>2900 Broadway</td>\n",
       "      <td>Not Applicable</td>\n",
       "      <td>1594</td>\n",
       "      <td>1</td>\n",
       "      <td>Not Applicable</td>\n",
       "      <td>Municipal Facilities</td>\n",
       "      <td>109</td>\n",
       "      <td>2900 Broadway</td>\n",
       "      <td>2015-06-01</td>\n",
       "      <td>2551</td>\n",
       "      <td>Broadway</td>\n",
       "      <td>backed</td>\n",
       "      <td>West 113th Street &amp; West 114th Street</td>\n",
       "      <td>POINT (993908.7933345139 232934.5870020092)</td>\n",
       "    </tr>\n",
       "    <tr>\n",
       "      <th>1</th>\n",
       "      <td>112 East 96th Street</td>\n",
       "      <td>Not Applicable</td>\n",
       "      <td>571</td>\n",
       "      <td>1</td>\n",
       "      <td>Not Applicable</td>\n",
       "      <td>Municipal Facilities</td>\n",
       "      <td>108</td>\n",
       "      <td>112 East 96th Street</td>\n",
       "      <td>2015-06-01</td>\n",
       "      <td>2555</td>\n",
       "      <td>East 96th Street</td>\n",
       "      <td>backed</td>\n",
       "      <td>Park Avenue &amp; Lexington Avenue</td>\n",
       "      <td>POINT (997522.3842044175 225738.8202255815)</td>\n",
       "    </tr>\n",
       "    <tr>\n",
       "      <th>2</th>\n",
       "      <td>449 West 14th Street</td>\n",
       "      <td>Not Applicable</td>\n",
       "      <td>1340</td>\n",
       "      <td>1</td>\n",
       "      <td>M11</td>\n",
       "      <td>General</td>\n",
       "      <td>104</td>\n",
       "      <td>449 West 14th Street</td>\n",
       "      <td>2015-06-01</td>\n",
       "      <td>3067</td>\n",
       "      <td>West 14th Street</td>\n",
       "      <td>backless</td>\n",
       "      <td>10th Avenue &amp; 9th Avenue</td>\n",
       "      <td>POINT (982207.0332735032 209561.3289585859)</td>\n",
       "    </tr>\n",
       "    <tr>\n",
       "      <th>3</th>\n",
       "      <td>208-11 26th Avenue</td>\n",
       "      <td>Not Applicable</td>\n",
       "      <td>1837</td>\n",
       "      <td>4</td>\n",
       "      <td>Not Applicable</td>\n",
       "      <td>General</td>\n",
       "      <td>407</td>\n",
       "      <td>74 Corporal Kennedy Street</td>\n",
       "      <td>2015-06-02</td>\n",
       "      <td>3071</td>\n",
       "      <td>Corporal Kennedy Street</td>\n",
       "      <td>backed</td>\n",
       "      <td>26th Avenue &amp; Corporal Kennedy Street</td>\n",
       "      <td>POINT (1046565.456065595 216941.4683977515)</td>\n",
       "    </tr>\n",
       "    <tr>\n",
       "      <th>4</th>\n",
       "      <td>84-02 Northern Boulevard</td>\n",
       "      <td>Not Applicable</td>\n",
       "      <td>1337</td>\n",
       "      <td>4</td>\n",
       "      <td>Not Applicable</td>\n",
       "      <td>General</td>\n",
       "      <td>403</td>\n",
       "      <td>84-02 Northern Boulevard</td>\n",
       "      <td>2015-06-02</td>\n",
       "      <td>3092</td>\n",
       "      <td>84th Street</td>\n",
       "      <td>backed</td>\n",
       "      <td>84th Street  &amp; 85th Street</td>\n",
       "      <td>POINT (1016540.393084347 214617.2181250006)</td>\n",
       "    </tr>\n",
       "  </tbody>\n",
       "</table>\n",
       "</div>"
      ],
      "text/plain": [
       "                    Address             BID  BenchID  Borough       Bus_Route  \\\n",
       "0             2900 Broadway  Not Applicable     1594        1  Not Applicable   \n",
       "1      112 East 96th Street  Not Applicable      571        1  Not Applicable   \n",
       "2      449 West 14th Street  Not Applicable     1340        1             M11   \n",
       "3        208-11 26th Avenue  Not Applicable     1837        4  Not Applicable   \n",
       "4  84-02 Northern Boulevard  Not Applicable     1337        4  Not Applicable   \n",
       "\n",
       "               Category  ComDist                  Geocode_Ad  Installati  \\\n",
       "0  Municipal Facilities      109               2900 Broadway  2015-06-01   \n",
       "1  Municipal Facilities      108        112 East 96th Street  2015-06-01   \n",
       "2               General      104        449 West 14th Street  2015-06-01   \n",
       "3               General      407  74 Corporal Kennedy Street  2015-06-02   \n",
       "4               General      403    84-02 Northern Boulevard  2015-06-02   \n",
       "\n",
       "   SiteID                   Street      Type  \\\n",
       "0    2551                 Broadway    backed   \n",
       "1    2555         East 96th Street    backed   \n",
       "2    3067         West 14th Street  backless   \n",
       "3    3071  Corporal Kennedy Street    backed   \n",
       "4    3092              84th Street    backed   \n",
       "\n",
       "                                X_Street  \\\n",
       "0  West 113th Street & West 114th Street   \n",
       "1         Park Avenue & Lexington Avenue   \n",
       "2               10th Avenue & 9th Avenue   \n",
       "3  26th Avenue & Corporal Kennedy Street   \n",
       "4             84th Street  & 85th Street   \n",
       "\n",
       "                                      geometry  \n",
       "0  POINT (993908.7933345139 232934.5870020092)  \n",
       "1  POINT (997522.3842044175 225738.8202255815)  \n",
       "2  POINT (982207.0332735032 209561.3289585859)  \n",
       "3  POINT (1046565.456065595 216941.4683977515)  \n",
       "4  POINT (1016540.393084347 214617.2181250006)  "
      ]
     },
     "execution_count": 6,
     "metadata": {},
     "output_type": "execute_result"
    }
   ],
   "source": [
    "benches.head()"
   ]
  },
  {
   "cell_type": "code",
   "execution_count": 8,
   "metadata": {
    "collapsed": false
   },
   "outputs": [
    {
     "data": {
      "text/html": [
       "<div style=\"max-height:1000px;max-width:1500px;overflow:auto;\">\n",
       "<table border=\"1\" class=\"dataframe\">\n",
       "  <thead>\n",
       "    <tr style=\"text-align: right;\">\n",
       "      <th></th>\n",
       "      <th>geometry</th>\n",
       "      <th>length</th>\n",
       "      <th>rating_b</th>\n",
       "      <th>rating_date</th>\n",
       "      <th>rating_fy_s</th>\n",
       "      <th>rating_word</th>\n",
       "      <th>segment_id</th>\n",
       "      <th>shape_len</th>\n",
       "      <th>usage_class</th>\n",
       "      <th>width</th>\n",
       "    </tr>\n",
       "  </thead>\n",
       "  <tbody>\n",
       "    <tr>\n",
       "      <th>0</th>\n",
       "      <td>LINESTRING (-74.25393145629884 40.502320647519...</td>\n",
       "      <td>114</td>\n",
       "      <td>0</td>\n",
       "      <td>1899-11-30T00:00:00.000Z</td>\n",
       "      <td>0</td>\n",
       "      <td>NR</td>\n",
       "      <td>9</td>\n",
       "      <td>114.01754251</td>\n",
       "      <td>None</td>\n",
       "      <td>30</td>\n",
       "    </tr>\n",
       "    <tr>\n",
       "      <th>1</th>\n",
       "      <td>LINESTRING (-74.25348929042963 40.502351818245...</td>\n",
       "      <td>123</td>\n",
       "      <td>0</td>\n",
       "      <td>1899-11-30T00:00:00.000Z</td>\n",
       "      <td>0</td>\n",
       "      <td>NR</td>\n",
       "      <td>10</td>\n",
       "      <td>123.490890352</td>\n",
       "      <td>None</td>\n",
       "      <td>30</td>\n",
       "    </tr>\n",
       "    <tr>\n",
       "      <th>2</th>\n",
       "      <td>LINESTRING (-74.25348929042963 40.502351818245...</td>\n",
       "      <td>999</td>\n",
       "      <td>0</td>\n",
       "      <td>1899-11-30T00:00:00.000Z</td>\n",
       "      <td>0</td>\n",
       "      <td>NR</td>\n",
       "      <td>11</td>\n",
       "      <td>970.48132388</td>\n",
       "      <td>None</td>\n",
       "      <td>30</td>\n",
       "    </tr>\n",
       "    <tr>\n",
       "      <th>3</th>\n",
       "      <td>LINESTRING (-74.25272401241558 40.502518196033...</td>\n",
       "      <td>221</td>\n",
       "      <td>0</td>\n",
       "      <td>1899-11-30T00:00:00.000Z</td>\n",
       "      <td>0</td>\n",
       "      <td>NR</td>\n",
       "      <td>12</td>\n",
       "      <td>221.289403271</td>\n",
       "      <td>None</td>\n",
       "      <td>30</td>\n",
       "    </tr>\n",
       "    <tr>\n",
       "      <th>4</th>\n",
       "      <td>LINESTRING (-74.25272401241558 40.502518196033...</td>\n",
       "      <td>933</td>\n",
       "      <td>0</td>\n",
       "      <td>1899-11-30T00:00:00.000Z</td>\n",
       "      <td>0</td>\n",
       "      <td>NR</td>\n",
       "      <td>13</td>\n",
       "      <td>932.40173745</td>\n",
       "      <td>None</td>\n",
       "      <td>30</td>\n",
       "    </tr>\n",
       "  </tbody>\n",
       "</table>\n",
       "</div>"
      ],
      "text/plain": [
       "                                            geometry length rating_b  \\\n",
       "0  LINESTRING (-74.25393145629884 40.502320647519...    114        0   \n",
       "1  LINESTRING (-74.25348929042963 40.502351818245...    123        0   \n",
       "2  LINESTRING (-74.25348929042963 40.502351818245...    999        0   \n",
       "3  LINESTRING (-74.25272401241558 40.502518196033...    221        0   \n",
       "4  LINESTRING (-74.25272401241558 40.502518196033...    933        0   \n",
       "\n",
       "                rating_date rating_fy_s rating_word segment_id      shape_len  \\\n",
       "0  1899-11-30T00:00:00.000Z           0          NR          9   114.01754251   \n",
       "1  1899-11-30T00:00:00.000Z           0          NR         10  123.490890352   \n",
       "2  1899-11-30T00:00:00.000Z           0          NR         11   970.48132388   \n",
       "3  1899-11-30T00:00:00.000Z           0          NR         12  221.289403271   \n",
       "4  1899-11-30T00:00:00.000Z           0          NR         13   932.40173745   \n",
       "\n",
       "  usage_class width  \n",
       "0        None    30  \n",
       "1        None    30  \n",
       "2        None    30  \n",
       "3        None    30  \n",
       "4        None    30  "
      ]
     },
     "execution_count": 8,
     "metadata": {},
     "output_type": "execute_result"
    }
   ],
   "source": [
    "pavements.head()"
   ]
  },
  {
   "cell_type": "markdown",
   "metadata": {},
   "source": [
    "### Shapefile CRS"
   ]
  },
  {
   "cell_type": "code",
   "execution_count": 427,
   "metadata": {
    "collapsed": false
   },
   "outputs": [
    {
     "name": "stdout",
     "output_type": "stream",
     "text": [
      "{u'lon_0': -74, u'datum': u'NAD83', u'y_0': 0, u'no_defs': True, u'proj': u'lcc', u'x_0': 300000, u'units': u'us-ft', u'lat_2': 41.03333333333333, u'lat_1': 40.66666666666666, u'lat_0': 40.16666666666666}\n",
      "{u'lon_0': -74, u'datum': u'NAD83', u'y_0': 0, u'no_defs': True, u'proj': u'lcc', u'x_0': 300000, u'units': u'us-ft', u'lat_2': 41.03333333333333, u'lat_1': 40.66666666666666, u'lat_0': 40.16666666666666}\n",
      "{'init': u'epsg:4326'}\n",
      "{'init': u'epsg:4326'}\n",
      "{u'lon_0': -74, u'datum': u'NAD83', u'y_0': 0, u'no_defs': True, u'proj': u'lcc', u'x_0': 300000, u'units': u'us-ft', u'lat_2': 41.03333333333333, u'lat_1': 40.66666666666666, u'lat_0': 40.16666666666666}\n"
     ]
    }
   ],
   "source": [
    "print nta.crs\n",
    "print benches.crs\n",
    "print trees.crs\n",
    "print lion.crs\n",
    "print linker_lion.crs"
   ]
  },
  {
   "cell_type": "markdown",
   "metadata": {},
   "source": [
    "## Computing length of streets"
   ]
  },
  {
   "cell_type": "code",
   "execution_count": 31,
   "metadata": {
    "collapsed": false
   },
   "outputs": [],
   "source": [
    "#Length is in degrees\n",
    "lion['length'] = lion['geometry'].length"
   ]
  },
  {
   "cell_type": "code",
   "execution_count": 33,
   "metadata": {
    "collapsed": true
   },
   "outputs": [],
   "source": [
    "#Conversion from degrees to meters \n",
    "#Source - http://gis.stackexchange.com/questions/80881/what-is-the-unit-the-shapely-length-attribute\n",
    "project = partial(\n",
    "    pyproj.transform,\n",
    "    pyproj.Proj(init='EPSG:4326'),\n",
    "    pyproj.Proj(init='EPSG:32633'))\n",
    "\n",
    "\n"
   ]
  },
  {
   "cell_type": "code",
   "execution_count": 77,
   "metadata": {
    "collapsed": false
   },
   "outputs": [],
   "source": [
    "#length in meters\n",
    "lion['length'] = pd.Series(transform(project, x) for x in lion['geometry'])\n",
    "#print str(line2.length) + \" meters\""
   ]
  },
  {
   "cell_type": "markdown",
   "metadata": {},
   "source": [
    "### Nearest street to each tree"
   ]
  },
  {
   "cell_type": "code",
   "execution_count": null,
   "metadata": {
    "collapsed": true
   },
   "outputs": [],
   "source": []
  },
  {
   "cell_type": "code",
   "execution_count": 147,
   "metadata": {
    "collapsed": true
   },
   "outputs": [],
   "source": [
    "trees['dist_to_street'] = trees.distance(lion)\n",
    "trees['buffer'] = np.nan"
   ]
  },
  {
   "cell_type": "code",
   "execution_count": 169,
   "metadata": {
    "collapsed": false
   },
   "outputs": [
    {
     "name": "stderr",
     "output_type": "stream",
     "text": [
      "ERROR:shapely.geos:IllegalArgumentException: RobustDeterminant encountered non-finite numbers \n"
     ]
    },
    {
     "ename": "ValueError",
     "evalue": "No Shapely geometry can be created from null value",
     "output_type": "error",
     "traceback": [
      "\u001b[1;31m---------------------------------------------------------------------------\u001b[0m",
      "\u001b[1;31mValueError\u001b[0m                                Traceback (most recent call last)",
      "\u001b[1;32m<ipython-input-169-bcfc54d60e8e>\u001b[0m in \u001b[0;36m<module>\u001b[1;34m()\u001b[0m\n\u001b[0;32m      1\u001b[0m \u001b[1;32mfor\u001b[0m \u001b[0mi\u001b[0m \u001b[1;32min\u001b[0m \u001b[0mtrees\u001b[0m\u001b[1;33m.\u001b[0m\u001b[0mindex\u001b[0m\u001b[1;33m:\u001b[0m\u001b[1;33m\u001b[0m\u001b[0m\n\u001b[1;32m----> 2\u001b[1;33m     \u001b[0mtrees\u001b[0m\u001b[1;33m.\u001b[0m\u001b[0mloc\u001b[0m\u001b[1;33m[\u001b[0m\u001b[0mi\u001b[0m\u001b[1;33m,\u001b[0m\u001b[1;34m'buffer'\u001b[0m\u001b[1;33m]\u001b[0m \u001b[1;33m=\u001b[0m \u001b[0mtrees\u001b[0m\u001b[1;33m[\u001b[0m\u001b[1;34m'geometry'\u001b[0m\u001b[1;33m]\u001b[0m\u001b[1;33m[\u001b[0m\u001b[0mi\u001b[0m\u001b[1;33m]\u001b[0m\u001b[1;33m.\u001b[0m\u001b[0mbuffer\u001b[0m\u001b[1;33m(\u001b[0m\u001b[0mtrees\u001b[0m\u001b[1;33m[\u001b[0m\u001b[1;34m'dist_to_street'\u001b[0m\u001b[1;33m]\u001b[0m\u001b[1;33m[\u001b[0m\u001b[0mi\u001b[0m\u001b[1;33m]\u001b[0m\u001b[1;33m)\u001b[0m\u001b[1;33m\u001b[0m\u001b[0m\n\u001b[0m\u001b[0;32m      3\u001b[0m \u001b[1;33m\u001b[0m\u001b[0m\n\u001b[0;32m      4\u001b[0m \u001b[1;33m\u001b[0m\u001b[0m\n",
      "\u001b[1;32m/opt/rh/anaconda/root/lib/python2.7/site-packages/shapely/geometry/base.pyc\u001b[0m in \u001b[0;36mbuffer\u001b[1;34m(self, distance, resolution, quadsegs, cap_style, join_style, mitre_limit)\u001b[0m\n\u001b[0;32m    516\u001b[0m                 'Cannot compute offset from zero-length line segment')\n\u001b[0;32m    517\u001b[0m         \u001b[1;32mif\u001b[0m \u001b[0mcap_style\u001b[0m \u001b[1;33m==\u001b[0m \u001b[0mCAP_STYLE\u001b[0m\u001b[1;33m.\u001b[0m\u001b[0mround\u001b[0m \u001b[1;32mand\u001b[0m \u001b[0mjoin_style\u001b[0m \u001b[1;33m==\u001b[0m \u001b[0mJOIN_STYLE\u001b[0m\u001b[1;33m.\u001b[0m\u001b[0mround\u001b[0m\u001b[1;33m:\u001b[0m\u001b[1;33m\u001b[0m\u001b[0m\n\u001b[1;32m--> 518\u001b[1;33m             \u001b[1;32mreturn\u001b[0m \u001b[0mgeom_factory\u001b[0m\u001b[1;33m(\u001b[0m\u001b[0mself\u001b[0m\u001b[1;33m.\u001b[0m\u001b[0mimpl\u001b[0m\u001b[1;33m[\u001b[0m\u001b[1;34m'buffer'\u001b[0m\u001b[1;33m]\u001b[0m\u001b[1;33m(\u001b[0m\u001b[0mself\u001b[0m\u001b[1;33m,\u001b[0m \u001b[0mdistance\u001b[0m\u001b[1;33m,\u001b[0m \u001b[0mres\u001b[0m\u001b[1;33m)\u001b[0m\u001b[1;33m)\u001b[0m\u001b[1;33m\u001b[0m\u001b[0m\n\u001b[0m\u001b[0;32m    519\u001b[0m \u001b[1;33m\u001b[0m\u001b[0m\n\u001b[0;32m    520\u001b[0m         \u001b[1;32mif\u001b[0m \u001b[1;34m'buffer_with_style'\u001b[0m \u001b[1;32mnot\u001b[0m \u001b[1;32min\u001b[0m \u001b[0mself\u001b[0m\u001b[1;33m.\u001b[0m\u001b[0mimpl\u001b[0m\u001b[1;33m:\u001b[0m\u001b[1;33m\u001b[0m\u001b[0m\n",
      "\u001b[1;32m/opt/rh/anaconda/root/lib/python2.7/site-packages/shapely/geometry/base.pyc\u001b[0m in \u001b[0;36mgeom_factory\u001b[1;34m(g, parent)\u001b[0m\n\u001b[0;32m     53\u001b[0m     \u001b[1;31m# Abstract geometry factory for use with topological methods below\u001b[0m\u001b[1;33m\u001b[0m\u001b[1;33m\u001b[0m\u001b[0m\n\u001b[0;32m     54\u001b[0m     \u001b[1;32mif\u001b[0m \u001b[1;32mnot\u001b[0m \u001b[0mg\u001b[0m\u001b[1;33m:\u001b[0m\u001b[1;33m\u001b[0m\u001b[0m\n\u001b[1;32m---> 55\u001b[1;33m         \u001b[1;32mraise\u001b[0m \u001b[0mValueError\u001b[0m\u001b[1;33m(\u001b[0m\u001b[1;34m\"No Shapely geometry can be created from null value\"\u001b[0m\u001b[1;33m)\u001b[0m\u001b[1;33m\u001b[0m\u001b[0m\n\u001b[0m\u001b[0;32m     56\u001b[0m     \u001b[0mob\u001b[0m \u001b[1;33m=\u001b[0m \u001b[0mBaseGeometry\u001b[0m\u001b[1;33m(\u001b[0m\u001b[1;33m)\u001b[0m\u001b[1;33m\u001b[0m\u001b[0m\n\u001b[0;32m     57\u001b[0m     \u001b[0mgeom_type\u001b[0m \u001b[1;33m=\u001b[0m \u001b[0mgeometry_type_name\u001b[0m\u001b[1;33m(\u001b[0m\u001b[0mg\u001b[0m\u001b[1;33m)\u001b[0m\u001b[1;33m\u001b[0m\u001b[0m\n",
      "\u001b[1;31mValueError\u001b[0m: No Shapely geometry can be created from null value"
     ]
    }
   ],
   "source": [
    "for i in trees.index: \n",
    "    trees.loc[i,'buffer'] = trees['geometry'][i].buffer(trees['dist_to_street'][i])\n",
    "    \n",
    "    "
   ]
  },
  {
   "cell_type": "code",
   "execution_count": 225,
   "metadata": {
    "collapsed": false
   },
   "outputs": [
    {
     "data": {
      "text/plain": [
       "0          1\n",
       "1          2\n",
       "2          3\n",
       "3          4\n",
       "4          5\n",
       "5          6\n",
       "6          7\n",
       "7          8\n",
       "8          9\n",
       "9         10\n",
       "10        11\n",
       "11        12\n",
       "12        13\n",
       "13        14\n",
       "14        15\n",
       "15        16\n",
       "16        17\n",
       "17        18\n",
       "18        19\n",
       "19        20\n",
       "20        21\n",
       "21        22\n",
       "22        23\n",
       "23        24\n",
       "24        25\n",
       "25        26\n",
       "26        27\n",
       "27        28\n",
       "28        29\n",
       "29        30\n",
       "        ... \n",
       "1970    1971\n",
       "1971    1972\n",
       "1972    1973\n",
       "1973    1974\n",
       "1974    1975\n",
       "1975    1976\n",
       "1976    1977\n",
       "1977    1978\n",
       "1978    1979\n",
       "1979    1980\n",
       "1980    1981\n",
       "1981    1982\n",
       "1982    1983\n",
       "1983    1984\n",
       "1984    1985\n",
       "1985    1986\n",
       "1986    1987\n",
       "1987    1988\n",
       "1988    1989\n",
       "1989    1990\n",
       "1990    1991\n",
       "1991    1992\n",
       "1992    1993\n",
       "1993    1994\n",
       "1994    1995\n",
       "1995    1996\n",
       "1996    1997\n",
       "1997    1998\n",
       "1998    1999\n",
       "1999    2000\n",
       "Name: OBJECTID, dtype: int64"
      ]
     },
     "execution_count": 225,
     "metadata": {},
     "output_type": "execute_result"
    }
   ],
   "source": [
    "#Once you have the buffer\n",
    "lion['OBJECTID']"
   ]
  },
  {
   "cell_type": "code",
   "execution_count": null,
   "metadata": {
    "collapsed": true
   },
   "outputs": [],
   "source": []
  },
  {
   "cell_type": "code",
   "execution_count": 202,
   "metadata": {
    "collapsed": false
   },
   "outputs": [
    {
     "data": {
      "text/plain": [
       "(466341, 43)"
      ]
     },
     "execution_count": 202,
     "metadata": {},
     "output_type": "execute_result"
    }
   ],
   "source": [
    "trees.loc[trees['dist_to_street'].isnull()].shape"
   ]
  },
  {
   "cell_type": "code",
   "execution_count": 198,
   "metadata": {
    "collapsed": false
   },
   "outputs": [
    {
     "data": {
      "text/html": [
       "<div style=\"max-height:1000px;max-width:1500px;overflow:auto;\">\n",
       "<table border=\"1\" class=\"dataframe\">\n",
       "  <thead>\n",
       "    <tr style=\"text-align: right;\">\n",
       "      <th></th>\n",
       "      <th>address</th>\n",
       "      <th>block_id</th>\n",
       "      <th>boro_ct</th>\n",
       "      <th>borocode</th>\n",
       "      <th>boroname</th>\n",
       "      <th>brch_light</th>\n",
       "      <th>brch_other</th>\n",
       "      <th>brch_shoe</th>\n",
       "      <th>cb_num</th>\n",
       "      <th>cncldist</th>\n",
       "      <th>...</th>\n",
       "      <th>trnk_light</th>\n",
       "      <th>trnk_other</th>\n",
       "      <th>trunk_wire</th>\n",
       "      <th>user_type</th>\n",
       "      <th>x_sp</th>\n",
       "      <th>y_sp</th>\n",
       "      <th>zip_city</th>\n",
       "      <th>zipcode</th>\n",
       "      <th>dist_to_street</th>\n",
       "      <th>buffer</th>\n",
       "    </tr>\n",
       "  </thead>\n",
       "  <tbody>\n",
       "    <tr>\n",
       "      <th>0</th>\n",
       "      <td>45 DUPONT STREET</td>\n",
       "      <td>216486</td>\n",
       "      <td>3056300</td>\n",
       "      <td>3</td>\n",
       "      <td>Brooklyn</td>\n",
       "      <td>No</td>\n",
       "      <td>No</td>\n",
       "      <td>No</td>\n",
       "      <td>301</td>\n",
       "      <td>33</td>\n",
       "      <td>...</td>\n",
       "      <td>No</td>\n",
       "      <td>No</td>\n",
       "      <td>No</td>\n",
       "      <td>Volunteer</td>\n",
       "      <td>995754.899878</td>\n",
       "      <td>207355.752989</td>\n",
       "      <td>Brooklyn</td>\n",
       "      <td>11222</td>\n",
       "      <td>0.109335</td>\n",
       "      <td>POLYGON ((-73.84915126953956 40.7358127696309,...</td>\n",
       "    </tr>\n",
       "  </tbody>\n",
       "</table>\n",
       "<p>1 rows × 43 columns</p>\n",
       "</div>"
      ],
      "text/plain": [
       "            address block_id  boro_ct borocode  boroname brch_light  \\\n",
       "0  45 DUPONT STREET   216486  3056300        3  Brooklyn         No   \n",
       "\n",
       "  brch_other brch_shoe cb_num cncldist  \\\n",
       "0         No        No    301       33   \n",
       "\n",
       "                         ...                         trnk_light trnk_other  \\\n",
       "0                        ...                                 No         No   \n",
       "\n",
       "  trunk_wire  user_type           x_sp           y_sp  zip_city zipcode  \\\n",
       "0         No  Volunteer  995754.899878  207355.752989  Brooklyn   11222   \n",
       "\n",
       "  dist_to_street                                             buffer  \n",
       "0       0.109335  POLYGON ((-73.84915126953956 40.7358127696309,...  \n",
       "\n",
       "[1 rows x 43 columns]"
      ]
     },
     "execution_count": 198,
     "metadata": {},
     "output_type": "execute_result"
    }
   ],
   "source": [
    "trees.loc[trees['dist_to_street'] == 0.10933455881165251]"
   ]
  },
  {
   "cell_type": "code",
   "execution_count": 203,
   "metadata": {
    "collapsed": false
   },
   "outputs": [
    {
     "data": {
      "text/plain": [
       "(468341, 43)"
      ]
     },
     "execution_count": 203,
     "metadata": {},
     "output_type": "execute_result"
    }
   ],
   "source": [
    "trees.shape"
   ]
  },
  {
   "cell_type": "code",
   "execution_count": 187,
   "metadata": {
    "collapsed": false
   },
   "outputs": [
    {
     "data": {
      "text/plain": [
       "0"
      ]
     },
     "execution_count": 187,
     "metadata": {},
     "output_type": "execute_result"
    }
   ],
   "source": [
    "len((trees.loc[trees['dist_to_street'] == 0.109335]))"
   ]
  },
  {
   "cell_type": "code",
   "execution_count": 206,
   "metadata": {
    "collapsed": false
   },
   "outputs": [
    {
     "data": {
      "text/plain": [
       "40384"
      ]
     },
     "execution_count": 206,
     "metadata": {},
     "output_type": "execute_result"
    }
   ],
   "source": [
    "len(pd.unique(sorted(snapped_trees['NEAR_FID'])))"
   ]
  },
  {
   "cell_type": "code",
   "execution_count": null,
   "metadata": {
    "collapsed": false
   },
   "outputs": [],
   "source": [
    "#pavements.plot(figsize = (12,12))"
   ]
  },
  {
   "cell_type": "code",
   "execution_count": null,
   "metadata": {
    "collapsed": false
   },
   "outputs": [],
   "source": [
    "benches.plot(figsize=(16,16))"
   ]
  },
  {
   "cell_type": "code",
   "execution_count": 208,
   "metadata": {
    "collapsed": false
   },
   "outputs": [],
   "source": [
    "trees_from_street = lion.distance(trees)"
   ]
  },
  {
   "cell_type": "code",
   "execution_count": 210,
   "metadata": {
    "collapsed": false
   },
   "outputs": [
    {
     "data": {
      "text/plain": [
       "(466341,)"
      ]
     },
     "execution_count": 210,
     "metadata": {},
     "output_type": "execute_result"
    }
   ],
   "source": [
    "trees_from_street.loc[trees_from_street.isnull()].shape"
   ]
  },
  {
   "cell_type": "markdown",
   "metadata": {
    "collapsed": true
   },
   "source": [
    "## Iterative calculation of closest street to tree and distance"
   ]
  },
  {
   "cell_type": "code",
   "execution_count": 331,
   "metadata": {
    "collapsed": true
   },
   "outputs": [],
   "source": [
    "import math"
   ]
  },
  {
   "cell_type": "code",
   "execution_count": 333,
   "metadata": {
    "collapsed": false
   },
   "outputs": [],
   "source": [
    "trees['dist_to_street'] = float(\"inf\")\n",
    "trees['closest_st_id'] = np.nan\n"
   ]
  },
  {
   "cell_type": "code",
   "execution_count": 309,
   "metadata": {
    "collapsed": false
   },
   "outputs": [
    {
     "data": {
      "text/plain": [
       "1058280.6477397205"
      ]
     },
     "execution_count": 309,
     "metadata": {},
     "output_type": "execute_result"
    }
   ],
   "source": [
    "for i in range(len(trees)):\n",
    "    for j in range(len(linker_lion)):\n",
    "        trees.iloc[i]['geometry'].distance(linker_lion.iloc[j]['geometry'])\n",
    "    \n"
   ]
  },
  {
   "cell_type": "code",
   "execution_count": 310,
   "metadata": {
    "collapsed": false
   },
   "outputs": [
    {
     "data": {
      "text/plain": [
       "Index([       u'address',       u'block_id',        u'boro_ct',\n",
       "             u'borocode',       u'boroname',     u'brch_light',\n",
       "           u'brch_other',      u'brch_shoe',         u'cb_num',\n",
       "             u'cncldist',     u'created_at',       u'curb_loc',\n",
       "             u'geometry',         u'guards',         u'health',\n",
       "             u'latitude',      u'longitude',            u'nta',\n",
       "             u'nta_name',     u'root_grate',     u'root_other',\n",
       "           u'root_stone',       u'sidewalk',     u'spc_common',\n",
       "            u'spc_latin',       u'st_assem',      u'st_senate',\n",
       "                u'state',         u'status',        u'steward',\n",
       "           u'stump_diam',       u'tree_dbh',        u'tree_id',\n",
       "           u'trnk_light',     u'trnk_other',     u'trunk_wire',\n",
       "            u'user_type',           u'x_sp',           u'y_sp',\n",
       "             u'zip_city',        u'zipcode', u'dist_to_street',\n",
       "               u'buffer'],\n",
       "      dtype='object')"
      ]
     },
     "execution_count": 310,
     "metadata": {},
     "output_type": "execute_result"
    }
   ],
   "source": [
    "trees.columns"
   ]
  },
  {
   "cell_type": "code",
   "execution_count": 314,
   "metadata": {
    "collapsed": false
   },
   "outputs": [
    {
     "data": {
      "text/plain": [
       "80"
      ]
     },
     "execution_count": 314,
     "metadata": {},
     "output_type": "execute_result"
    }
   ],
   "source": [
    "linker_lion.iloc[78]['OBJECTID']"
   ]
  },
  {
   "cell_type": "code",
   "execution_count": 321,
   "metadata": {
    "collapsed": false
   },
   "outputs": [
    {
     "data": {
      "text/plain": [
       "array([None, u'L', u'R'], dtype=object)"
      ]
     },
     "execution_count": 321,
     "metadata": {},
     "output_type": "execute_result"
    }
   ],
   "source": [
    "pd.unique(linker_lion['BoroBndry'])"
   ]
  },
  {
   "cell_type": "markdown",
   "metadata": {},
   "source": [
    "### Calculating the number of "
   ]
  },
  {
   "cell_type": "code",
   "execution_count": 324,
   "metadata": {
    "collapsed": false
   },
   "outputs": [
    {
     "data": {
      "text/plain": [
       "(155312, 115)"
      ]
     },
     "execution_count": 324,
     "metadata": {},
     "output_type": "execute_result"
    }
   ],
   "source": [
    "linker_lion[linker_lion['LBoro'] == linker_lion['RBoro']].shape"
   ]
  },
  {
   "cell_type": "code",
   "execution_count": 325,
   "metadata": {
    "collapsed": false
   },
   "outputs": [
    {
     "data": {
      "text/plain": [
       "(155628, 115)"
      ]
     },
     "execution_count": 325,
     "metadata": {},
     "output_type": "execute_result"
    }
   ],
   "source": [
    "linker_lion.shape"
   ]
  },
  {
   "cell_type": "code",
   "execution_count": 327,
   "metadata": {
    "collapsed": false
   },
   "outputs": [],
   "source": [
    "boundary_lion = linker_lion[linker_lion['LBoro'] != linker_lion['RBoro']]\n",
    "non_boundary_lion = linker_lion[linker_lion['LBoro'] == linker_lion['RBoro']]"
   ]
  },
  {
   "cell_type": "markdown",
   "metadata": {},
   "source": [
    "### Calculating for the boundary streets"
   ]
  },
  {
   "cell_type": "code",
   "execution_count": null,
   "metadata": {
    "collapsed": false
   },
   "outputs": [],
   "source": [
    "\n",
    "for i in trees.index:\n",
    "    for j in boundary_lion.index:\n",
    "        dist = trees.iloc[i]['geometry'].distance(linker_lion.iloc[j]['geometry'])\n",
    "        if dist < trees.iloc[i]['dist_to_street']:\n",
    "            trees.loc[i,'closest_st_id'] = linker_lion.iloc[j]['OBJECTID']\n",
    "    \n"
   ]
  },
  {
   "cell_type": "code",
   "execution_count": null,
   "metadata": {
    "collapsed": true
   },
   "outputs": [],
   "source": [
    "#startted at 5.58\n",
    "import datetime\n",
    "\n",
    "print datetime.datetime.now()"
   ]
  },
  {
   "cell_type": "markdown",
   "metadata": {},
   "source": [
    "### Calculating for the non - boundary streets"
   ]
  },
  {
   "cell_type": "code",
   "execution_count": null,
   "metadata": {
    "collapsed": true
   },
   "outputs": [],
   "source": [
    "#Brooklyn\n"
   ]
  },
  {
   "cell_type": "code",
   "execution_count": null,
   "metadata": {
    "collapsed": true
   },
   "outputs": [],
   "source": [
    "#Bronx"
   ]
  },
  {
   "cell_type": "code",
   "execution_count": null,
   "metadata": {
    "collapsed": true
   },
   "outputs": [],
   "source": [
    "#Manhattan"
   ]
  },
  {
   "cell_type": "code",
   "execution_count": null,
   "metadata": {
    "collapsed": true
   },
   "outputs": [],
   "source": [
    "#Queens"
   ]
  },
  {
   "cell_type": "code",
   "execution_count": null,
   "metadata": {
    "collapsed": true
   },
   "outputs": [],
   "source": [
    "#Staten Island"
   ]
  },
  {
   "cell_type": "code",
   "execution_count": null,
   "metadata": {
    "collapsed": true
   },
   "outputs": [],
   "source": []
  },
  {
   "cell_type": "markdown",
   "metadata": {},
   "source": [
    "### Length of streets by NTA"
   ]
  },
  {
   "cell_type": "code",
   "execution_count": 437,
   "metadata": {
    "collapsed": false
   },
   "outputs": [],
   "source": [
    "#Convert Census Tract to str and pad with zeros to make it 6 digit\n",
    "ct_to_nta['2010 Census Tract'] = ct_to_nta['2010 Census Tract'].astype(str)\n",
    "ct_to_nta['2010 Census Tract'] = ct_to_nta['2010 Census Tract'].apply(lambda x : x.zfill(6))"
   ]
  },
  {
   "cell_type": "code",
   "execution_count": 438,
   "metadata": {
    "collapsed": false
   },
   "outputs": [],
   "source": [
    "ct_to_nta['2010 NYC Borough Code'] = ct_to_nta['2010 NYC Borough Code'].astype(str)\n",
    "ct_to_nta['BCT2010'] = ct_to_nta['2010 NYC Borough Code'] + ct_to_nta['2010 Census Tract']"
   ]
  },
  {
   "cell_type": "code",
   "execution_count": 439,
   "metadata": {
    "collapsed": true
   },
   "outputs": [],
   "source": [
    "linker_lion['LBoro'] = linker_lion['LBoro'].astype(str)\n",
    "linker_lion['RBoro'] = linker_lion['RBoro'].astype(str)"
   ]
  },
  {
   "cell_type": "code",
   "execution_count": 440,
   "metadata": {
    "collapsed": false
   },
   "outputs": [],
   "source": [
    "#Merging\n",
    "linker_lion['LCT2010Suf'].fillna('00', inplace = True)\n",
    "linker_lion['LCT2010Suf'] = linker_lion['LCT2010Suf'].apply(lambda x : x.zfill(2))\n",
    "linker_lion['LCT2010'].fillna('0000', inplace = True)\n",
    "linker_lion['LCT2010'] = linker_lion['LCT2010'].apply(lambda x : x.zfill(4))\n",
    "linker_lion['LCT2010Whole'] = linker_lion['LCT2010'] + linker_lion['LCT2010Suf']"
   ]
  },
  {
   "cell_type": "code",
   "execution_count": 441,
   "metadata": {
    "collapsed": false
   },
   "outputs": [],
   "source": [
    "linker_lion['LBoroCT2010Whole'] = linker_lion['LBoro'] + linker_lion['LCT2010Whole']"
   ]
  },
  {
   "cell_type": "code",
   "execution_count": 442,
   "metadata": {
    "collapsed": true
   },
   "outputs": [],
   "source": [
    "linker_lion['RCT2010Suf'].fillna('00', inplace = True)\n",
    "linker_lion['RCT2010Suf'] = linker_lion['RCT2010Suf'].apply(lambda x : x.zfill(2))\n",
    "linker_lion['RCT2010'].fillna('0000', inplace = True)\n",
    "linker_lion['RCT2010'] = linker_lion['RCT2010'].apply(lambda x : x.zfill(4))\n",
    "linker_lion['RCT2010Whole'] = linker_lion['RCT2010'] + linker_lion['RCT2010Suf']"
   ]
  },
  {
   "cell_type": "code",
   "execution_count": 443,
   "metadata": {
    "collapsed": true
   },
   "outputs": [],
   "source": [
    "linker_lion['RBoroCT2010Whole'] = linker_lion['RBoro'] + linker_lion['RCT2010Whole']"
   ]
  },
  {
   "cell_type": "code",
   "execution_count": 444,
   "metadata": {
    "collapsed": false
   },
   "outputs": [],
   "source": [
    "linker_lion = linker_lion.merge(ct_to_nta, left_on='LBoroCT2010Whole', right_on='BCT2010', how='inner')"
   ]
  },
  {
   "cell_type": "code",
   "execution_count": 445,
   "metadata": {
    "collapsed": false
   },
   "outputs": [],
   "source": [
    "linker_lion = linker_lion[['SHAPE_Leng','LCT2010Whole', 'LBoroCT2010Whole', 'RCT2010Whole', 'RBoroCT2010Whole',\\\n",
    "                          'BCT2010', 'Neighborhood Tabulation Area (NTA)Code']]"
   ]
  },
  {
   "cell_type": "code",
   "execution_count": 446,
   "metadata": {
    "collapsed": false
   },
   "outputs": [
    {
     "data": {
      "text/html": [
       "<div style=\"max-height:1000px;max-width:1500px;overflow:auto;\">\n",
       "<table border=\"1\" class=\"dataframe\">\n",
       "  <thead>\n",
       "    <tr style=\"text-align: right;\">\n",
       "      <th></th>\n",
       "      <th>SHAPE_Leng</th>\n",
       "      <th>LCT2010Whole</th>\n",
       "      <th>LBoroCT2010Whole</th>\n",
       "      <th>RCT2010Whole</th>\n",
       "      <th>RBoroCT2010Whole</th>\n",
       "      <th>BCT2010</th>\n",
       "      <th>Neighborhood Tabulation Area (NTA)Code</th>\n",
       "    </tr>\n",
       "  </thead>\n",
       "  <tbody>\n",
       "    <tr>\n",
       "      <th>0</th>\n",
       "      <td>396.030947</td>\n",
       "      <td>014900</td>\n",
       "      <td>2014900</td>\n",
       "      <td>018500</td>\n",
       "      <td>2018500</td>\n",
       "      <td>2014900</td>\n",
       "      <td>BX35</td>\n",
       "    </tr>\n",
       "    <tr>\n",
       "      <th>1</th>\n",
       "      <td>253.726026</td>\n",
       "      <td>014900</td>\n",
       "      <td>2014900</td>\n",
       "      <td>018500</td>\n",
       "      <td>2018500</td>\n",
       "      <td>2014900</td>\n",
       "      <td>BX35</td>\n",
       "    </tr>\n",
       "    <tr>\n",
       "      <th>2</th>\n",
       "      <td>218.414795</td>\n",
       "      <td>014900</td>\n",
       "      <td>2014900</td>\n",
       "      <td>014900</td>\n",
       "      <td>2014900</td>\n",
       "      <td>2014900</td>\n",
       "      <td>BX35</td>\n",
       "    </tr>\n",
       "    <tr>\n",
       "      <th>3</th>\n",
       "      <td>586.719482</td>\n",
       "      <td>014900</td>\n",
       "      <td>2014900</td>\n",
       "      <td>015100</td>\n",
       "      <td>2015100</td>\n",
       "      <td>2014900</td>\n",
       "      <td>BX35</td>\n",
       "    </tr>\n",
       "    <tr>\n",
       "      <th>4</th>\n",
       "      <td>586.719482</td>\n",
       "      <td>014900</td>\n",
       "      <td>2014900</td>\n",
       "      <td>015100</td>\n",
       "      <td>2015100</td>\n",
       "      <td>2014900</td>\n",
       "      <td>BX35</td>\n",
       "    </tr>\n",
       "  </tbody>\n",
       "</table>\n",
       "</div>"
      ],
      "text/plain": [
       "   SHAPE_Leng LCT2010Whole LBoroCT2010Whole RCT2010Whole RBoroCT2010Whole  \\\n",
       "0  396.030947       014900          2014900       018500          2018500   \n",
       "1  253.726026       014900          2014900       018500          2018500   \n",
       "2  218.414795       014900          2014900       014900          2014900   \n",
       "3  586.719482       014900          2014900       015100          2015100   \n",
       "4  586.719482       014900          2014900       015100          2015100   \n",
       "\n",
       "   BCT2010 Neighborhood Tabulation Area (NTA)Code  \n",
       "0  2014900                                   BX35  \n",
       "1  2014900                                   BX35  \n",
       "2  2014900                                   BX35  \n",
       "3  2014900                                   BX35  \n",
       "4  2014900                                   BX35  "
      ]
     },
     "execution_count": 446,
     "metadata": {},
     "output_type": "execute_result"
    }
   ],
   "source": [
    "linker_lion.head()"
   ]
  },
  {
   "cell_type": "code",
   "execution_count": 447,
   "metadata": {
    "collapsed": false
   },
   "outputs": [],
   "source": [
    "linker_lion.rename(index=str, columns={'Neighborhood Tabulation Area (NTA)Code':'LNTA'}, inplace=True)"
   ]
  },
  {
   "cell_type": "code",
   "execution_count": 448,
   "metadata": {
    "collapsed": true
   },
   "outputs": [],
   "source": [
    "linker_lion = linker_lion.merge(ct_to_nta, left_on='RBoroCT2010Whole', right_on='BCT2010', how='inner')"
   ]
  },
  {
   "cell_type": "code",
   "execution_count": 449,
   "metadata": {
    "collapsed": false
   },
   "outputs": [
    {
     "data": {
      "text/html": [
       "<div style=\"max-height:1000px;max-width:1500px;overflow:auto;\">\n",
       "<table border=\"1\" class=\"dataframe\">\n",
       "  <thead>\n",
       "    <tr style=\"text-align: right;\">\n",
       "      <th></th>\n",
       "      <th>SHAPE_Leng</th>\n",
       "      <th>LCT2010Whole</th>\n",
       "      <th>LBoroCT2010Whole</th>\n",
       "      <th>RCT2010Whole</th>\n",
       "      <th>RBoroCT2010Whole</th>\n",
       "      <th>BCT2010_x</th>\n",
       "      <th>LNTA</th>\n",
       "      <th>Borough</th>\n",
       "      <th>2010 Census Bureau FIPS County Code</th>\n",
       "      <th>2010 NYC Borough Code</th>\n",
       "      <th>2010 Census Tract</th>\n",
       "      <th>PUMA</th>\n",
       "      <th>Neighborhood Tabulation Area (NTA)Code</th>\n",
       "      <th>Neighborhood Tabulation Area (NTA) Name</th>\n",
       "      <th>BCT2010_y</th>\n",
       "    </tr>\n",
       "  </thead>\n",
       "  <tbody>\n",
       "    <tr>\n",
       "      <th>0</th>\n",
       "      <td>396.030947</td>\n",
       "      <td>014900</td>\n",
       "      <td>2014900</td>\n",
       "      <td>018500</td>\n",
       "      <td>2018500</td>\n",
       "      <td>2014900</td>\n",
       "      <td>BX35</td>\n",
       "      <td>Bronx</td>\n",
       "      <td>5</td>\n",
       "      <td>2</td>\n",
       "      <td>018500</td>\n",
       "      <td>3705</td>\n",
       "      <td>BX35</td>\n",
       "      <td>Morrisania-Melrose</td>\n",
       "      <td>2018500</td>\n",
       "    </tr>\n",
       "    <tr>\n",
       "      <th>1</th>\n",
       "      <td>253.726026</td>\n",
       "      <td>014900</td>\n",
       "      <td>2014900</td>\n",
       "      <td>018500</td>\n",
       "      <td>2018500</td>\n",
       "      <td>2014900</td>\n",
       "      <td>BX35</td>\n",
       "      <td>Bronx</td>\n",
       "      <td>5</td>\n",
       "      <td>2</td>\n",
       "      <td>018500</td>\n",
       "      <td>3705</td>\n",
       "      <td>BX35</td>\n",
       "      <td>Morrisania-Melrose</td>\n",
       "      <td>2018500</td>\n",
       "    </tr>\n",
       "    <tr>\n",
       "      <th>2</th>\n",
       "      <td>52.777042</td>\n",
       "      <td>014900</td>\n",
       "      <td>2014900</td>\n",
       "      <td>018500</td>\n",
       "      <td>2018500</td>\n",
       "      <td>2014900</td>\n",
       "      <td>BX35</td>\n",
       "      <td>Bronx</td>\n",
       "      <td>5</td>\n",
       "      <td>2</td>\n",
       "      <td>018500</td>\n",
       "      <td>3705</td>\n",
       "      <td>BX35</td>\n",
       "      <td>Morrisania-Melrose</td>\n",
       "      <td>2018500</td>\n",
       "    </tr>\n",
       "    <tr>\n",
       "      <th>3</th>\n",
       "      <td>49.232051</td>\n",
       "      <td>014900</td>\n",
       "      <td>2014900</td>\n",
       "      <td>018500</td>\n",
       "      <td>2018500</td>\n",
       "      <td>2014900</td>\n",
       "      <td>BX35</td>\n",
       "      <td>Bronx</td>\n",
       "      <td>5</td>\n",
       "      <td>2</td>\n",
       "      <td>018500</td>\n",
       "      <td>3705</td>\n",
       "      <td>BX35</td>\n",
       "      <td>Morrisania-Melrose</td>\n",
       "      <td>2018500</td>\n",
       "    </tr>\n",
       "    <tr>\n",
       "      <th>4</th>\n",
       "      <td>229.010197</td>\n",
       "      <td>013500</td>\n",
       "      <td>2013500</td>\n",
       "      <td>018500</td>\n",
       "      <td>2018500</td>\n",
       "      <td>2013500</td>\n",
       "      <td>BX35</td>\n",
       "      <td>Bronx</td>\n",
       "      <td>5</td>\n",
       "      <td>2</td>\n",
       "      <td>018500</td>\n",
       "      <td>3705</td>\n",
       "      <td>BX35</td>\n",
       "      <td>Morrisania-Melrose</td>\n",
       "      <td>2018500</td>\n",
       "    </tr>\n",
       "  </tbody>\n",
       "</table>\n",
       "</div>"
      ],
      "text/plain": [
       "   SHAPE_Leng LCT2010Whole LBoroCT2010Whole RCT2010Whole RBoroCT2010Whole  \\\n",
       "0  396.030947       014900          2014900       018500          2018500   \n",
       "1  253.726026       014900          2014900       018500          2018500   \n",
       "2   52.777042       014900          2014900       018500          2018500   \n",
       "3   49.232051       014900          2014900       018500          2018500   \n",
       "4  229.010197       013500          2013500       018500          2018500   \n",
       "\n",
       "  BCT2010_x  LNTA Borough  2010 Census Bureau FIPS County Code  \\\n",
       "0   2014900  BX35   Bronx                                    5   \n",
       "1   2014900  BX35   Bronx                                    5   \n",
       "2   2014900  BX35   Bronx                                    5   \n",
       "3   2014900  BX35   Bronx                                    5   \n",
       "4   2013500  BX35   Bronx                                    5   \n",
       "\n",
       "  2010 NYC Borough Code 2010 Census Tract  PUMA  \\\n",
       "0                     2            018500  3705   \n",
       "1                     2            018500  3705   \n",
       "2                     2            018500  3705   \n",
       "3                     2            018500  3705   \n",
       "4                     2            018500  3705   \n",
       "\n",
       "  Neighborhood Tabulation Area (NTA)Code  \\\n",
       "0                                   BX35   \n",
       "1                                   BX35   \n",
       "2                                   BX35   \n",
       "3                                   BX35   \n",
       "4                                   BX35   \n",
       "\n",
       "  Neighborhood Tabulation Area (NTA) Name BCT2010_y  \n",
       "0                      Morrisania-Melrose   2018500  \n",
       "1                      Morrisania-Melrose   2018500  \n",
       "2                      Morrisania-Melrose   2018500  \n",
       "3                      Morrisania-Melrose   2018500  \n",
       "4                      Morrisania-Melrose   2018500  "
      ]
     },
     "execution_count": 449,
     "metadata": {},
     "output_type": "execute_result"
    }
   ],
   "source": [
    "linker_lion.head()"
   ]
  },
  {
   "cell_type": "code",
   "execution_count": 450,
   "metadata": {
    "collapsed": true
   },
   "outputs": [],
   "source": [
    "linker_lion.rename(index=str, columns={'Neighborhood Tabulation Area (NTA)Code':'RNTA'}, inplace=True)"
   ]
  },
  {
   "cell_type": "code",
   "execution_count": 451,
   "metadata": {
    "collapsed": true
   },
   "outputs": [],
   "source": [
    "linker_lion.drop('BCT2010_y', axis=1, inplace=True)"
   ]
  },
  {
   "cell_type": "code",
   "execution_count": 452,
   "metadata": {
    "collapsed": true
   },
   "outputs": [],
   "source": [
    "linker_lion.rename(index=str, columns={'BCT2010_x':'BCT2010'}, inplace=True)"
   ]
  },
  {
   "cell_type": "code",
   "execution_count": 453,
   "metadata": {
    "collapsed": false
   },
   "outputs": [
    {
     "data": {
      "text/html": [
       "<div style=\"max-height:1000px;max-width:1500px;overflow:auto;\">\n",
       "<table border=\"1\" class=\"dataframe\">\n",
       "  <thead>\n",
       "    <tr style=\"text-align: right;\">\n",
       "      <th></th>\n",
       "      <th>SHAPE_Leng</th>\n",
       "      <th>LCT2010Whole</th>\n",
       "      <th>LBoroCT2010Whole</th>\n",
       "      <th>RCT2010Whole</th>\n",
       "      <th>RBoroCT2010Whole</th>\n",
       "      <th>BCT2010</th>\n",
       "      <th>LNTA</th>\n",
       "      <th>Borough</th>\n",
       "      <th>2010 Census Bureau FIPS County Code</th>\n",
       "      <th>2010 NYC Borough Code</th>\n",
       "      <th>2010 Census Tract</th>\n",
       "      <th>PUMA</th>\n",
       "      <th>RNTA</th>\n",
       "      <th>Neighborhood Tabulation Area (NTA) Name</th>\n",
       "    </tr>\n",
       "  </thead>\n",
       "  <tbody>\n",
       "    <tr>\n",
       "      <th>0</th>\n",
       "      <td>396.030947</td>\n",
       "      <td>014900</td>\n",
       "      <td>2014900</td>\n",
       "      <td>018500</td>\n",
       "      <td>2018500</td>\n",
       "      <td>2014900</td>\n",
       "      <td>BX35</td>\n",
       "      <td>Bronx</td>\n",
       "      <td>5</td>\n",
       "      <td>2</td>\n",
       "      <td>018500</td>\n",
       "      <td>3705</td>\n",
       "      <td>BX35</td>\n",
       "      <td>Morrisania-Melrose</td>\n",
       "    </tr>\n",
       "    <tr>\n",
       "      <th>1</th>\n",
       "      <td>253.726026</td>\n",
       "      <td>014900</td>\n",
       "      <td>2014900</td>\n",
       "      <td>018500</td>\n",
       "      <td>2018500</td>\n",
       "      <td>2014900</td>\n",
       "      <td>BX35</td>\n",
       "      <td>Bronx</td>\n",
       "      <td>5</td>\n",
       "      <td>2</td>\n",
       "      <td>018500</td>\n",
       "      <td>3705</td>\n",
       "      <td>BX35</td>\n",
       "      <td>Morrisania-Melrose</td>\n",
       "    </tr>\n",
       "    <tr>\n",
       "      <th>2</th>\n",
       "      <td>52.777042</td>\n",
       "      <td>014900</td>\n",
       "      <td>2014900</td>\n",
       "      <td>018500</td>\n",
       "      <td>2018500</td>\n",
       "      <td>2014900</td>\n",
       "      <td>BX35</td>\n",
       "      <td>Bronx</td>\n",
       "      <td>5</td>\n",
       "      <td>2</td>\n",
       "      <td>018500</td>\n",
       "      <td>3705</td>\n",
       "      <td>BX35</td>\n",
       "      <td>Morrisania-Melrose</td>\n",
       "    </tr>\n",
       "    <tr>\n",
       "      <th>3</th>\n",
       "      <td>49.232051</td>\n",
       "      <td>014900</td>\n",
       "      <td>2014900</td>\n",
       "      <td>018500</td>\n",
       "      <td>2018500</td>\n",
       "      <td>2014900</td>\n",
       "      <td>BX35</td>\n",
       "      <td>Bronx</td>\n",
       "      <td>5</td>\n",
       "      <td>2</td>\n",
       "      <td>018500</td>\n",
       "      <td>3705</td>\n",
       "      <td>BX35</td>\n",
       "      <td>Morrisania-Melrose</td>\n",
       "    </tr>\n",
       "    <tr>\n",
       "      <th>4</th>\n",
       "      <td>229.010197</td>\n",
       "      <td>013500</td>\n",
       "      <td>2013500</td>\n",
       "      <td>018500</td>\n",
       "      <td>2018500</td>\n",
       "      <td>2013500</td>\n",
       "      <td>BX35</td>\n",
       "      <td>Bronx</td>\n",
       "      <td>5</td>\n",
       "      <td>2</td>\n",
       "      <td>018500</td>\n",
       "      <td>3705</td>\n",
       "      <td>BX35</td>\n",
       "      <td>Morrisania-Melrose</td>\n",
       "    </tr>\n",
       "  </tbody>\n",
       "</table>\n",
       "</div>"
      ],
      "text/plain": [
       "   SHAPE_Leng LCT2010Whole LBoroCT2010Whole RCT2010Whole RBoroCT2010Whole  \\\n",
       "0  396.030947       014900          2014900       018500          2018500   \n",
       "1  253.726026       014900          2014900       018500          2018500   \n",
       "2   52.777042       014900          2014900       018500          2018500   \n",
       "3   49.232051       014900          2014900       018500          2018500   \n",
       "4  229.010197       013500          2013500       018500          2018500   \n",
       "\n",
       "   BCT2010  LNTA Borough  2010 Census Bureau FIPS County Code  \\\n",
       "0  2014900  BX35   Bronx                                    5   \n",
       "1  2014900  BX35   Bronx                                    5   \n",
       "2  2014900  BX35   Bronx                                    5   \n",
       "3  2014900  BX35   Bronx                                    5   \n",
       "4  2013500  BX35   Bronx                                    5   \n",
       "\n",
       "  2010 NYC Borough Code 2010 Census Tract  PUMA  RNTA  \\\n",
       "0                     2            018500  3705  BX35   \n",
       "1                     2            018500  3705  BX35   \n",
       "2                     2            018500  3705  BX35   \n",
       "3                     2            018500  3705  BX35   \n",
       "4                     2            018500  3705  BX35   \n",
       "\n",
       "  Neighborhood Tabulation Area (NTA) Name  \n",
       "0                      Morrisania-Melrose  \n",
       "1                      Morrisania-Melrose  \n",
       "2                      Morrisania-Melrose  \n",
       "3                      Morrisania-Melrose  \n",
       "4                      Morrisania-Melrose  "
      ]
     },
     "execution_count": 453,
     "metadata": {},
     "output_type": "execute_result"
    }
   ],
   "source": [
    "linker_lion.head()"
   ]
  },
  {
   "cell_type": "code",
   "execution_count": 458,
   "metadata": {
    "collapsed": false
   },
   "outputs": [],
   "source": [
    "linker_lion_rnta = linker_lion[['SHAPE_Leng', 'RNTA']].groupby('RNTA').sum()\n",
    "linker_lion_lnta = linker_lion[['SHAPE_Leng', 'LNTA']].groupby('LNTA').sum()"
   ]
  },
  {
   "cell_type": "code",
   "execution_count": 459,
   "metadata": {
    "collapsed": false
   },
   "outputs": [],
   "source": [
    "linker_lion_lnta.rename(index=str, columns={'SHAPE_Leng':'LNTA_STREET_LEN'}, inplace=True)\n",
    "linker_lion_rnta.rename(index=str, columns={'SHAPE_Leng':'RNTA_STREET_LEN'}, inplace=True)"
   ]
  },
  {
   "cell_type": "code",
   "execution_count": 472,
   "metadata": {
    "collapsed": false
   },
   "outputs": [],
   "source": [
    "street_len_nta = linker_lion_lnta.merge(linker_lion_rnta, left_index='LNTA', right_index='RNTA')"
   ]
  },
  {
   "cell_type": "code",
   "execution_count": 474,
   "metadata": {
    "collapsed": false,
    "scrolled": true
   },
   "outputs": [],
   "source": [
    "street_len_nta = street_len_nta.merge(treescount, left_index='LNTA',right_on='NTA', how='inner')"
   ]
  },
  {
   "cell_type": "code",
   "execution_count": 476,
   "metadata": {
    "collapsed": false
   },
   "outputs": [],
   "source": [
    "street_len_nta['MAX_STREET_LEN'] = street_len_nta[['LNTA_STREET_LEN', 'RNTA_STREET_LEN']].max(axis=1)"
   ]
  },
  {
   "cell_type": "code",
   "execution_count": 478,
   "metadata": {
    "collapsed": false
   },
   "outputs": [],
   "source": [
    "street_len_nta['TREES_PER_UNIT_LENGTH'] = street_len_nta['count'] / street_len_nta['MAX_STREET_LEN']  "
   ]
  },
  {
   "cell_type": "code",
   "execution_count": 484,
   "metadata": {
    "collapsed": false
   },
   "outputs": [],
   "source": [
    "std_scaler = preprocessing.StandardScaler()\n",
    "street_len_nta['STD_TREES_PER_UNIT_LENGTH'] = std_scaler.fit_transform(street_len_nta['TREES_PER_UNIT_LENGTH'])\n"
   ]
  },
  {
   "cell_type": "code",
   "execution_count": 487,
   "metadata": {
    "collapsed": false
   },
   "outputs": [],
   "source": [
    "street_len_nta.rename(index=str, columns={'NTA':'NTACode'}, inplace=True)"
   ]
  },
  {
   "cell_type": "code",
   "execution_count": 489,
   "metadata": {
    "collapsed": false
   },
   "outputs": [],
   "source": [
    "street_quality_indicator = street_len_nta[['NTACode','STD_TREES_PER_UNIT_LENGTH']]"
   ]
  },
  {
   "cell_type": "code",
   "execution_count": 491,
   "metadata": {
    "collapsed": false
   },
   "outputs": [],
   "source": [
    "street_quality_indicator.to_csv('StreetTreesIndicator.csv')"
   ]
  },
  {
   "cell_type": "code",
   "execution_count": null,
   "metadata": {
    "collapsed": true
   },
   "outputs": [],
   "source": []
  },
  {
   "cell_type": "code",
   "execution_count": null,
   "metadata": {
    "collapsed": true
   },
   "outputs": [],
   "source": []
  }
 ],
 "metadata": {
  "kernelspec": {
   "display_name": "Python 2",
   "language": "python",
   "name": "python2"
  },
  "language_info": {
   "codemirror_mode": {
    "name": "ipython",
    "version": 2
   },
   "file_extension": ".py",
   "mimetype": "text/x-python",
   "name": "python",
   "nbconvert_exporter": "python",
   "pygments_lexer": "ipython2",
   "version": "2.7.11"
  }
 },
 "nbformat": 4,
 "nbformat_minor": 0
}
