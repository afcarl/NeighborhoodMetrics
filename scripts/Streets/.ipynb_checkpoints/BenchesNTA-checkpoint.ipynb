{
 "cells": [
  {
   "cell_type": "markdown",
   "metadata": {},
   "source": [
    "# Benches NTA\n",
    "\n",
    "Trees per unit length of street.\n"
   ]
  },
  {
   "cell_type": "code",
   "execution_count": 1,
   "metadata": {
    "collapsed": true
   },
   "outputs": [],
   "source": [
    "import pandas as pd\n",
    "import numpy as np\n",
    "import geopandas as gp\n",
    "import matplotlib.pyplot as plt\n",
    "import math\n",
    "from sklearn import preprocessing\n",
    "\n",
    "\n",
    "%matplotlib inline"
   ]
  },
  {
   "cell_type": "code",
   "execution_count": 2,
   "metadata": {
    "collapsed": true
   },
   "outputs": [],
   "source": [
    "from shapely.geometry import LineString, Polygon, Point, LinearRing\n",
    "from shapely.ops import transform\n",
    "from functools import partial\n",
    "import pyproj"
   ]
  },
  {
   "cell_type": "markdown",
   "metadata": {},
   "source": [
    "## Benches "
   ]
  },
  {
   "cell_type": "code",
   "execution_count": 9,
   "metadata": {
    "collapsed": false
   },
   "outputs": [],
   "source": [
    "#benches data\n",
    "#benches = gp.GeoDataFrame.from_file('../../data/streets/citybench/NYC_CityBench.shp')\n",
    "#\n",
    "#parks = gp.GeoDataFrame.from_file('../../data/parks/Parks Properties.geojson')\n",
    "benchescount = pd.read_csv('../../data/streets/benchesNTA.csv')\n",
    "plazscount = pd.read_csv('../../data/streets/plazasNTA.csv')\n",
    "streetlen = pd.read_csv('../../data/streets/StreetLenNTA.csv')"
   ]
  },
  {
   "cell_type": "markdown",
   "metadata": {},
   "source": [
    "### Data Reading"
   ]
  },
  {
   "cell_type": "code",
   "execution_count": 4,
   "metadata": {
    "collapsed": true
   },
   "outputs": [],
   "source": [
    "#nta = gp.GeoDataFrame.from_file('../../data/general/nynta_16b/nynta.shp')\n",
    "#trees = gp.GeoDataFrame.from_file('../../data/streets/2015StreetTreeCensusTreeData.geojson')\n",
    "\n",
    "#pavements = gp.GeoDataFrame.from_file('../../data/streets/StreetPavementRating.geojson')\n",
    "#ct_to_nta = pd.read_csv('../../data/general/2010_Census_Tract_to_Neighborhood_Tabulation_Area_Equivalency_table.csv')"
   ]
  },
  {
   "cell_type": "code",
   "execution_count": 5,
   "metadata": {
    "collapsed": false
   },
   "outputs": [
    {
     "data": {
      "text/html": [
       "<div style=\"max-height:1000px;max-width:1500px;overflow:auto;\">\n",
       "<table border=\"1\" class=\"dataframe\">\n",
       "  <thead>\n",
       "    <tr style=\"text-align: right;\">\n",
       "      <th></th>\n",
       "      <th>FID</th>\n",
       "      <th>BoroCode</th>\n",
       "      <th>CountyFIPS</th>\n",
       "      <th>NTACode</th>\n",
       "      <th>NTAName</th>\n",
       "      <th>Count_plazas</th>\n",
       "    </tr>\n",
       "  </thead>\n",
       "  <tbody>\n",
       "    <tr>\n",
       "      <th>0</th>\n",
       "      <td>70</td>\n",
       "      <td>4</td>\n",
       "      <td>81</td>\n",
       "      <td>QN30</td>\n",
       "      <td>Maspeth</td>\n",
       "      <td>11</td>\n",
       "    </tr>\n",
       "    <tr>\n",
       "      <th>1</th>\n",
       "      <td>170</td>\n",
       "      <td>1</td>\n",
       "      <td>61</td>\n",
       "      <td>MN24</td>\n",
       "      <td>SoHo-TriBeCa-Civic Center-Little Italy</td>\n",
       "      <td>9</td>\n",
       "    </tr>\n",
       "  </tbody>\n",
       "</table>\n",
       "</div>"
      ],
      "text/plain": [
       "   FID  BoroCode  CountyFIPS NTACode                                 NTAName  \\\n",
       "0   70         4          81    QN30                                 Maspeth   \n",
       "1  170         1          61    MN24  SoHo-TriBeCa-Civic Center-Little Italy   \n",
       "\n",
       "   Count_plazas  \n",
       "0            11  \n",
       "1             9  "
      ]
     },
     "execution_count": 5,
     "metadata": {},
     "output_type": "execute_result"
    }
   ],
   "source": [
    "plazscount.head(2)"
   ]
  },
  {
   "cell_type": "code",
   "execution_count": 6,
   "metadata": {
    "collapsed": false
   },
   "outputs": [
    {
     "ename": "NameError",
     "evalue": "name 'parks' is not defined",
     "output_type": "error",
     "traceback": [
      "\u001b[1;31m---------------------------------------------------------------------------\u001b[0m",
      "\u001b[1;31mNameError\u001b[0m                                 Traceback (most recent call last)",
      "\u001b[1;32m<ipython-input-6-1609814d118d>\u001b[0m in \u001b[0;36m<module>\u001b[1;34m()\u001b[0m\n\u001b[1;32m----> 1\u001b[1;33m \u001b[0mparks\u001b[0m\u001b[1;33m[\u001b[0m\u001b[1;34m'centroid'\u001b[0m\u001b[1;33m]\u001b[0m \u001b[1;33m=\u001b[0m \u001b[0mgp\u001b[0m\u001b[1;33m.\u001b[0m\u001b[0mGeoSeries\u001b[0m\u001b[1;33m(\u001b[0m\u001b[0mparks\u001b[0m\u001b[1;33m[\u001b[0m\u001b[1;34m'geometry'\u001b[0m\u001b[1;33m]\u001b[0m\u001b[1;33m.\u001b[0m\u001b[0mcentroid\u001b[0m\u001b[1;33m)\u001b[0m\u001b[1;33m\u001b[0m\u001b[0m\n\u001b[0m",
      "\u001b[1;31mNameError\u001b[0m: name 'parks' is not defined"
     ]
    }
   ],
   "source": [
    "#parks['centroid'] = gp.GeoSeries(parks['geometry'].centroid)"
   ]
  },
  {
   "cell_type": "code",
   "execution_count": 12,
   "metadata": {
    "collapsed": false
   },
   "outputs": [],
   "source": [
    "# creating files with only bench count and NTA & Plazas count and NTA\n",
    "benachc = benchescount[['NTACode','Count_Benches']]\n",
    "plazasc = plazscount[['NTACode','Count_plazas']]\n"
   ]
  },
  {
   "cell_type": "code",
   "execution_count": 13,
   "metadata": {
    "collapsed": false
   },
   "outputs": [],
   "source": [
    "#merging on NTA\n",
    "benachc = benachc.merge(plazasc, on='NTACode', how='inner')\n"
   ]
  },
  {
   "cell_type": "code",
   "execution_count": 14,
   "metadata": {
    "collapsed": false
   },
   "outputs": [
    {
     "data": {
      "text/html": [
       "<div style=\"max-height:1000px;max-width:1500px;overflow:auto;\">\n",
       "<table border=\"1\" class=\"dataframe\">\n",
       "  <thead>\n",
       "    <tr style=\"text-align: right;\">\n",
       "      <th></th>\n",
       "      <th>NTACode</th>\n",
       "      <th>Count_Benches</th>\n",
       "      <th>Count_plazas</th>\n",
       "    </tr>\n",
       "  </thead>\n",
       "  <tbody>\n",
       "    <tr>\n",
       "      <th>0</th>\n",
       "      <td>BK88</td>\n",
       "      <td>10</td>\n",
       "      <td>3</td>\n",
       "    </tr>\n",
       "    <tr>\n",
       "      <th>1</th>\n",
       "      <td>QN52</td>\n",
       "      <td>2</td>\n",
       "      <td>2</td>\n",
       "    </tr>\n",
       "    <tr>\n",
       "      <th>2</th>\n",
       "      <td>QN48</td>\n",
       "      <td>2</td>\n",
       "      <td>0</td>\n",
       "    </tr>\n",
       "    <tr>\n",
       "      <th>3</th>\n",
       "      <td>QN51</td>\n",
       "      <td>1</td>\n",
       "      <td>3</td>\n",
       "    </tr>\n",
       "    <tr>\n",
       "      <th>4</th>\n",
       "      <td>QN27</td>\n",
       "      <td>2</td>\n",
       "      <td>4</td>\n",
       "    </tr>\n",
       "  </tbody>\n",
       "</table>\n",
       "</div>"
      ],
      "text/plain": [
       "  NTACode  Count_Benches  Count_plazas\n",
       "0    BK88             10             3\n",
       "1    QN52              2             2\n",
       "2    QN48              2             0\n",
       "3    QN51              1             3\n",
       "4    QN27              2             4"
      ]
     },
     "execution_count": 14,
     "metadata": {},
     "output_type": "execute_result"
    }
   ],
   "source": [
    "benachc.head(5)"
   ]
  },
  {
   "cell_type": "code",
   "execution_count": 15,
   "metadata": {
    "collapsed": true
   },
   "outputs": [],
   "source": [
    "# count = aggragatiion benches per NTA for plazas + benches \n",
    "benachc['count'] = benachc['Count_Benches'] + benachc['Count_plazas']"
   ]
  },
  {
   "cell_type": "code",
   "execution_count": 16,
   "metadata": {
    "collapsed": true
   },
   "outputs": [],
   "source": [
    "# creating a new DF. NTAbenchplaz is the inclusive source for number of bencehs and plazas per NTA \n",
    "NTAbenchplaz = benachc[['NTACode','count']]\n"
   ]
  },
  {
   "cell_type": "code",
   "execution_count": 17,
   "metadata": {
    "collapsed": false
   },
   "outputs": [],
   "source": [
    "#Generated from arcgis\n",
    "#linker_lion = gp.GeoDataFrame.from_file('../../data/general/linklion/linklion.shp')"
   ]
  },
  {
   "cell_type": "code",
   "execution_count": 8,
   "metadata": {
    "collapsed": true
   },
   "outputs": [],
   "source": [
    "#3treescount = pd.read_csv('../../data/streets/treescount.csv')"
   ]
  },
  {
   "cell_type": "markdown",
   "metadata": {},
   "source": [
    "### Data Exploration"
   ]
  },
  {
   "cell_type": "code",
   "execution_count": 18,
   "metadata": {
    "collapsed": false
   },
   "outputs": [
    {
     "data": {
      "text/html": [
       "<div style=\"max-height:1000px;max-width:1500px;overflow:auto;\">\n",
       "<table border=\"1\" class=\"dataframe\">\n",
       "  <thead>\n",
       "    <tr style=\"text-align: right;\">\n",
       "      <th></th>\n",
       "      <th>LBoro</th>\n",
       "      <th>LCT2010</th>\n",
       "      <th>LCT2010Suf</th>\n",
       "    </tr>\n",
       "  </thead>\n",
       "  <tbody>\n",
       "    <tr>\n",
       "      <th>0</th>\n",
       "      <td>2</td>\n",
       "      <td>149</td>\n",
       "      <td>None</td>\n",
       "    </tr>\n",
       "    <tr>\n",
       "      <th>1</th>\n",
       "      <td>2</td>\n",
       "      <td>265</td>\n",
       "      <td>None</td>\n",
       "    </tr>\n",
       "    <tr>\n",
       "      <th>2</th>\n",
       "      <td>2</td>\n",
       "      <td>135</td>\n",
       "      <td>None</td>\n",
       "    </tr>\n",
       "    <tr>\n",
       "      <th>3</th>\n",
       "      <td>2</td>\n",
       "      <td>135</td>\n",
       "      <td>None</td>\n",
       "    </tr>\n",
       "    <tr>\n",
       "      <th>4</th>\n",
       "      <td>2</td>\n",
       "      <td>335</td>\n",
       "      <td>None</td>\n",
       "    </tr>\n",
       "  </tbody>\n",
       "</table>\n",
       "</div>"
      ],
      "text/plain": [
       "   LBoro LCT2010 LCT2010Suf\n",
       "0      2     149       None\n",
       "1      2     265       None\n",
       "2      2     135       None\n",
       "3      2     135       None\n",
       "4      2     335       None"
      ]
     },
     "execution_count": 18,
     "metadata": {},
     "output_type": "execute_result"
    }
   ],
   "source": [
    "#linker_lion[['LBoro','LCT2010','LCT2010Suf',]].head()"
   ]
  },
  {
   "cell_type": "code",
   "execution_count": null,
   "metadata": {
    "collapsed": true
   },
   "outputs": [],
   "source": [
    "NTAbenchplaz.to_csv('NTAbenchplaz.csv')"
   ]
  },
  {
   "cell_type": "markdown",
   "metadata": {},
   "source": [
    "### Shapefile CRS"
   ]
  },
  {
   "cell_type": "code",
   "execution_count": null,
   "metadata": {
    "collapsed": false
   },
   "outputs": [],
   "source": [
    "#print nta.crs\n",
    "#print benches.crs\n",
    "#print trees.crs\n",
    "#print linker_lion.crs"
   ]
  },
  {
   "cell_type": "markdown",
   "metadata": {},
   "source": [
    "### Length of streets by NTA"
   ]
  },
  {
   "cell_type": "code",
   "execution_count": 14,
   "metadata": {
    "collapsed": false
   },
   "outputs": [],
   "source": [
    "#Convert Census Tract to str and pad with zeros to make it 6 digit\n",
    "#ct_to_nta['2010 Census Tract'] = ct_to_nta['2010 Census Tract'].astype(str)\n",
    "#ct_to_nta['2010 Census Tract'] = ct_to_nta['2010 Census Tract'].apply(lambda x : x.zfill(6))"
   ]
  },
  {
   "cell_type": "code",
   "execution_count": 19,
   "metadata": {
    "collapsed": false
   },
   "outputs": [],
   "source": [
    "#Convert Boro Code to string and merge with census tract\n",
    "#ct_to_nta['2010 NYC Borough Code'] = ct_to_nta['2010 NYC Borough Code'].astype(str)\n",
    "#ct_to_nta['BCT2010'] = ct_to_nta['2010 NYC Borough Code'] + ct_to_nta['2010 Census Tract']"
   ]
  },
  {
   "cell_type": "code",
   "execution_count": 20,
   "metadata": {
    "collapsed": true
   },
   "outputs": [],
   "source": [
    "#linker_lion['LBoro'] = linker_lion['LBoro'].astype(str)\n",
    "#linker_lion['RBoro'] = linker_lion['RBoro'].astype(str)"
   ]
  },
  {
   "cell_type": "code",
   "execution_count": 21,
   "metadata": {
    "collapsed": false
   },
   "outputs": [],
   "source": [
    "#Formatting LION to Merge \n",
    "#linker_lion['LCT2010Suf'].fillna('00', inplace = True) #Replace None\n",
    "#linker_lion['LCT2010Suf'] = linker_lion['LCT2010Suf'].apply(lambda x : x.zfill(2))\n",
    "#linker_lion['LCT2010'].fillna('0000', inplace = True)\n",
    "#linker_lion['LCT2010'] = linker_lion['LCT2010'].apply(lambda x : x.zfill(4))\n",
    "#linker_lion['LCT2010Whole'] = linker_lion['LCT2010'] + linker_lion['LCT2010Suf']"
   ]
  },
  {
   "cell_type": "code",
   "execution_count": 22,
   "metadata": {
    "collapsed": false
   },
   "outputs": [],
   "source": [
    "#Adding Borocode to CT\n",
    "#linker_lion['LBoroCT2010Whole'] = linker_lion['LBoro'] + linker_lion['LCT2010Whole']"
   ]
  },
  {
   "cell_type": "code",
   "execution_count": 23,
   "metadata": {
    "collapsed": true
   },
   "outputs": [],
   "source": [
    "#linker_lion['RCT2010Suf'].fillna('00', inplace = True)\n",
    "#linker_lion['RCT2010Suf'] = linker_lion['RCT2010Suf'].apply(lambda x : x.zfill(2))\n",
    "#linker_lion['RCT2010'].fillna('0000', inplace = True)\n",
    "#linker_lion['RCT2010'] = linker_lion['RCT2010'].apply(lambda x : x.zfill(4))\n",
    "#linker_lion['RCT2010Whole'] = linker_lion['RCT2010'] + linker_lion['RCT2010Suf']"
   ]
  },
  {
   "cell_type": "code",
   "execution_count": 24,
   "metadata": {
    "collapsed": true
   },
   "outputs": [],
   "source": [
    "#linker_lion['RBoroCT2010Whole'] = linker_lion['RBoro'] + linker_lion['RCT2010Whole']"
   ]
  },
  {
   "cell_type": "code",
   "execution_count": 25,
   "metadata": {
    "collapsed": false
   },
   "outputs": [],
   "source": [
    "#Merging LION table w/ census tract to NTA table\n",
    "#linker_lion = linker_lion.merge(ct_to_nta, left_on='LBoroCT2010Whole', right_on='BCT2010', how='inner')"
   ]
  },
  {
   "cell_type": "code",
   "execution_count": 26,
   "metadata": {
    "collapsed": false
   },
   "outputs": [],
   "source": [
    "#Selecting only columns needed\n",
    "#linker_lion = linker_lion[['SHAPE_Leng','LCT2010Whole', 'LBoroCT2010Whole', 'RCT2010Whole', 'RBoroCT2010Whole',\\\n",
    "                          'BCT2010', 'Neighborhood Tabulation Area (NTA)Code']]"
   ]
  },
  {
   "cell_type": "code",
   "execution_count": 28,
   "metadata": {
    "collapsed": false
   },
   "outputs": [],
   "source": [
    "#linker_lion.rename(index=str, columns={'Neighborhood Tabulation Area (NTA)Code':'LNTA'}, inplace=True)"
   ]
  },
  {
   "cell_type": "code",
   "execution_count": 29,
   "metadata": {
    "collapsed": true
   },
   "outputs": [],
   "source": [
    "#linker_lion = linker_lion.merge(ct_to_nta, left_on='RBoroCT2010Whole', right_on='BCT2010', how='inner')"
   ]
  },
  {
   "cell_type": "code",
   "execution_count": 32,
   "metadata": {
    "collapsed": true
   },
   "outputs": [],
   "source": [
    "#linker_lion.drop('BCT2010_y', axis=1, inplace=True)"
   ]
  },
  {
   "cell_type": "code",
   "execution_count": 33,
   "metadata": {
    "collapsed": true
   },
   "outputs": [],
   "source": [
    "#linker_lion.rename(index=str, columns={'BCT2010_x':'BCT2010'}, inplace=True)"
   ]
  },
  {
   "cell_type": "code",
   "execution_count": 35,
   "metadata": {
    "collapsed": false
   },
   "outputs": [],
   "source": [
    "#Grouping by NTA and summing length of street in NTA\n",
    "linker_lion_rnta = linker_lion[['SHAPE_Leng', 'RNTA']].groupby('RNTA').sum()\n",
    "linker_lion_lnta = linker_lion[['SHAPE_Leng', 'LNTA']].groupby('LNTA').sum()"
   ]
  },
  {
   "cell_type": "code",
   "execution_count": 36,
   "metadata": {
    "collapsed": false
   },
   "outputs": [],
   "source": [
    "linker_lion_lnta.rename(index=str, columns={'SHAPE_Leng':'LNTA_STREET_LEN'}, inplace=True)\n",
    "linker_lion_rnta.rename(index=str, columns={'SHAPE_Leng':'RNTA_STREET_LEN'}, inplace=True)"
   ]
  },
  {
   "cell_type": "code",
   "execution_count": 37,
   "metadata": {
    "collapsed": false
   },
   "outputs": [
    {
     "data": {
      "text/html": [
       "<div style=\"max-height:1000px;max-width:1500px;overflow:auto;\">\n",
       "<table border=\"1\" class=\"dataframe\">\n",
       "  <thead>\n",
       "    <tr style=\"text-align: right;\">\n",
       "      <th></th>\n",
       "      <th>LNTA_STREET_LEN</th>\n",
       "    </tr>\n",
       "    <tr>\n",
       "      <th>LNTA</th>\n",
       "      <th></th>\n",
       "    </tr>\n",
       "  </thead>\n",
       "  <tbody>\n",
       "    <tr>\n",
       "      <th>BK09</th>\n",
       "      <td>76238.519454</td>\n",
       "    </tr>\n",
       "    <tr>\n",
       "      <th>BK17</th>\n",
       "      <td>397331.181701</td>\n",
       "    </tr>\n",
       "    <tr>\n",
       "      <th>BK19</th>\n",
       "      <td>144164.194428</td>\n",
       "    </tr>\n",
       "    <tr>\n",
       "      <th>BK21</th>\n",
       "      <td>156084.632553</td>\n",
       "    </tr>\n",
       "    <tr>\n",
       "      <th>BK23</th>\n",
       "      <td>32386.951439</td>\n",
       "    </tr>\n",
       "  </tbody>\n",
       "</table>\n",
       "</div>"
      ],
      "text/plain": [
       "      LNTA_STREET_LEN\n",
       "LNTA                 \n",
       "BK09     76238.519454\n",
       "BK17    397331.181701\n",
       "BK19    144164.194428\n",
       "BK21    156084.632553\n",
       "BK23     32386.951439"
      ]
     },
     "execution_count": 37,
     "metadata": {},
     "output_type": "execute_result"
    }
   ],
   "source": [
    "linker_lion_lnta.head()"
   ]
  },
  {
   "cell_type": "code",
   "execution_count": null,
   "metadata": {
    "collapsed": false
   },
   "outputs": [],
   "source": [
    "#street_len_nta = linker_lion_lnta.merge(linker_lion_rnta, left_index='LNTA', right_index='RNTA')"
   ]
  },
  {
   "cell_type": "code",
   "execution_count": 474,
   "metadata": {
    "collapsed": false,
    "scrolled": true
   },
   "outputs": [],
   "source": [
    "street_len_nta = street_len_nta.merge(treescount, left_index='LNTA', how='inner')"
   ]
  },
  {
   "cell_type": "code",
   "execution_count": 476,
   "metadata": {
    "collapsed": false
   },
   "outputs": [],
   "source": [
    "#street_len_nta['MAX_STREET_LEN'] = street_len_nta[['LNTA_STREET_LEN', 'RNTA_STREET_LEN']].max(axis=1)"
   ]
  },
  {
   "cell_type": "code",
   "execution_count": 19,
   "metadata": {
    "collapsed": false
   },
   "outputs": [
    {
     "data": {
      "text/html": [
       "<div style=\"max-height:1000px;max-width:1500px;overflow:auto;\">\n",
       "<table border=\"1\" class=\"dataframe\">\n",
       "  <thead>\n",
       "    <tr style=\"text-align: right;\">\n",
       "      <th></th>\n",
       "      <th>NTACode</th>\n",
       "      <th>count</th>\n",
       "    </tr>\n",
       "  </thead>\n",
       "  <tbody>\n",
       "    <tr>\n",
       "      <th>0</th>\n",
       "      <td>BK88</td>\n",
       "      <td>13</td>\n",
       "    </tr>\n",
       "    <tr>\n",
       "      <th>1</th>\n",
       "      <td>QN52</td>\n",
       "      <td>4</td>\n",
       "    </tr>\n",
       "    <tr>\n",
       "      <th>2</th>\n",
       "      <td>QN48</td>\n",
       "      <td>2</td>\n",
       "    </tr>\n",
       "    <tr>\n",
       "      <th>3</th>\n",
       "      <td>QN51</td>\n",
       "      <td>4</td>\n",
       "    </tr>\n",
       "    <tr>\n",
       "      <th>4</th>\n",
       "      <td>QN27</td>\n",
       "      <td>6</td>\n",
       "    </tr>\n",
       "    <tr>\n",
       "      <th>5</th>\n",
       "      <td>BX46</td>\n",
       "      <td>3</td>\n",
       "    </tr>\n",
       "    <tr>\n",
       "      <th>6</th>\n",
       "      <td>BX35</td>\n",
       "      <td>16</td>\n",
       "    </tr>\n",
       "    <tr>\n",
       "      <th>7</th>\n",
       "      <td>BX98</td>\n",
       "      <td>0</td>\n",
       "    </tr>\n",
       "    <tr>\n",
       "      <th>8</th>\n",
       "      <td>QN28</td>\n",
       "      <td>38</td>\n",
       "    </tr>\n",
       "    <tr>\n",
       "      <th>9</th>\n",
       "      <td>BX55</td>\n",
       "      <td>5</td>\n",
       "    </tr>\n",
       "    <tr>\n",
       "      <th>10</th>\n",
       "      <td>QN07</td>\n",
       "      <td>4</td>\n",
       "    </tr>\n",
       "    <tr>\n",
       "      <th>11</th>\n",
       "      <td>MN06</td>\n",
       "      <td>3</td>\n",
       "    </tr>\n",
       "    <tr>\n",
       "      <th>12</th>\n",
       "      <td>QN02</td>\n",
       "      <td>3</td>\n",
       "    </tr>\n",
       "    <tr>\n",
       "      <th>13</th>\n",
       "      <td>QN71</td>\n",
       "      <td>3</td>\n",
       "    </tr>\n",
       "    <tr>\n",
       "      <th>14</th>\n",
       "      <td>QN46</td>\n",
       "      <td>21</td>\n",
       "    </tr>\n",
       "    <tr>\n",
       "      <th>15</th>\n",
       "      <td>QN38</td>\n",
       "      <td>1</td>\n",
       "    </tr>\n",
       "    <tr>\n",
       "      <th>16</th>\n",
       "      <td>QN68</td>\n",
       "      <td>4</td>\n",
       "    </tr>\n",
       "    <tr>\n",
       "      <th>17</th>\n",
       "      <td>BX13</td>\n",
       "      <td>4</td>\n",
       "    </tr>\n",
       "    <tr>\n",
       "      <th>18</th>\n",
       "      <td>MN15</td>\n",
       "      <td>8</td>\n",
       "    </tr>\n",
       "    <tr>\n",
       "      <th>19</th>\n",
       "      <td>BK25</td>\n",
       "      <td>5</td>\n",
       "    </tr>\n",
       "    <tr>\n",
       "      <th>20</th>\n",
       "      <td>BX59</td>\n",
       "      <td>4</td>\n",
       "    </tr>\n",
       "    <tr>\n",
       "      <th>21</th>\n",
       "      <td>BK68</td>\n",
       "      <td>10</td>\n",
       "    </tr>\n",
       "    <tr>\n",
       "      <th>22</th>\n",
       "      <td>QN41</td>\n",
       "      <td>2</td>\n",
       "    </tr>\n",
       "    <tr>\n",
       "      <th>23</th>\n",
       "      <td>MN11</td>\n",
       "      <td>18</td>\n",
       "    </tr>\n",
       "    <tr>\n",
       "      <th>24</th>\n",
       "      <td>SI99</td>\n",
       "      <td>0</td>\n",
       "    </tr>\n",
       "    <tr>\n",
       "      <th>25</th>\n",
       "      <td>QN18</td>\n",
       "      <td>8</td>\n",
       "    </tr>\n",
       "    <tr>\n",
       "      <th>26</th>\n",
       "      <td>MN17</td>\n",
       "      <td>9</td>\n",
       "    </tr>\n",
       "    <tr>\n",
       "      <th>27</th>\n",
       "      <td>MN19</td>\n",
       "      <td>5</td>\n",
       "    </tr>\n",
       "    <tr>\n",
       "      <th>28</th>\n",
       "      <td>MN31</td>\n",
       "      <td>10</td>\n",
       "    </tr>\n",
       "    <tr>\n",
       "      <th>29</th>\n",
       "      <td>BX01</td>\n",
       "      <td>8</td>\n",
       "    </tr>\n",
       "    <tr>\n",
       "      <th>...</th>\n",
       "      <td>...</td>\n",
       "      <td>...</td>\n",
       "    </tr>\n",
       "    <tr>\n",
       "      <th>165</th>\n",
       "      <td>QN45</td>\n",
       "      <td>11</td>\n",
       "    </tr>\n",
       "    <tr>\n",
       "      <th>166</th>\n",
       "      <td>QN05</td>\n",
       "      <td>1</td>\n",
       "    </tr>\n",
       "    <tr>\n",
       "      <th>167</th>\n",
       "      <td>BK78</td>\n",
       "      <td>17</td>\n",
       "    </tr>\n",
       "    <tr>\n",
       "      <th>168</th>\n",
       "      <td>BK77</td>\n",
       "      <td>7</td>\n",
       "    </tr>\n",
       "    <tr>\n",
       "      <th>169</th>\n",
       "      <td>QN20</td>\n",
       "      <td>13</td>\n",
       "    </tr>\n",
       "    <tr>\n",
       "      <th>170</th>\n",
       "      <td>MN24</td>\n",
       "      <td>39</td>\n",
       "    </tr>\n",
       "    <tr>\n",
       "      <th>171</th>\n",
       "      <td>MN27</td>\n",
       "      <td>11</td>\n",
       "    </tr>\n",
       "    <tr>\n",
       "      <th>172</th>\n",
       "      <td>QN43</td>\n",
       "      <td>4</td>\n",
       "    </tr>\n",
       "    <tr>\n",
       "      <th>173</th>\n",
       "      <td>QN44</td>\n",
       "      <td>3</td>\n",
       "    </tr>\n",
       "    <tr>\n",
       "      <th>174</th>\n",
       "      <td>BX26</td>\n",
       "      <td>6</td>\n",
       "    </tr>\n",
       "    <tr>\n",
       "      <th>175</th>\n",
       "      <td>BX40</td>\n",
       "      <td>10</td>\n",
       "    </tr>\n",
       "    <tr>\n",
       "      <th>176</th>\n",
       "      <td>BX41</td>\n",
       "      <td>17</td>\n",
       "    </tr>\n",
       "    <tr>\n",
       "      <th>177</th>\n",
       "      <td>QN10</td>\n",
       "      <td>11</td>\n",
       "    </tr>\n",
       "    <tr>\n",
       "      <th>178</th>\n",
       "      <td>BX14</td>\n",
       "      <td>12</td>\n",
       "    </tr>\n",
       "    <tr>\n",
       "      <th>179</th>\n",
       "      <td>BX63</td>\n",
       "      <td>5</td>\n",
       "    </tr>\n",
       "    <tr>\n",
       "      <th>180</th>\n",
       "      <td>MN03</td>\n",
       "      <td>24</td>\n",
       "    </tr>\n",
       "    <tr>\n",
       "      <th>181</th>\n",
       "      <td>MN34</td>\n",
       "      <td>32</td>\n",
       "    </tr>\n",
       "    <tr>\n",
       "      <th>182</th>\n",
       "      <td>BX28</td>\n",
       "      <td>9</td>\n",
       "    </tr>\n",
       "    <tr>\n",
       "      <th>183</th>\n",
       "      <td>BX43</td>\n",
       "      <td>13</td>\n",
       "    </tr>\n",
       "    <tr>\n",
       "      <th>184</th>\n",
       "      <td>BK46</td>\n",
       "      <td>0</td>\n",
       "    </tr>\n",
       "    <tr>\n",
       "      <th>185</th>\n",
       "      <td>QN22</td>\n",
       "      <td>16</td>\n",
       "    </tr>\n",
       "    <tr>\n",
       "      <th>186</th>\n",
       "      <td>QN23</td>\n",
       "      <td>6</td>\n",
       "    </tr>\n",
       "    <tr>\n",
       "      <th>187</th>\n",
       "      <td>QN53</td>\n",
       "      <td>6</td>\n",
       "    </tr>\n",
       "    <tr>\n",
       "      <th>188</th>\n",
       "      <td>SI22</td>\n",
       "      <td>11</td>\n",
       "    </tr>\n",
       "    <tr>\n",
       "      <th>189</th>\n",
       "      <td>SI35</td>\n",
       "      <td>4</td>\n",
       "    </tr>\n",
       "    <tr>\n",
       "      <th>190</th>\n",
       "      <td>BK99</td>\n",
       "      <td>3</td>\n",
       "    </tr>\n",
       "    <tr>\n",
       "      <th>191</th>\n",
       "      <td>BX22</td>\n",
       "      <td>7</td>\n",
       "    </tr>\n",
       "    <tr>\n",
       "      <th>192</th>\n",
       "      <td>BX29</td>\n",
       "      <td>7</td>\n",
       "    </tr>\n",
       "    <tr>\n",
       "      <th>193</th>\n",
       "      <td>QN19</td>\n",
       "      <td>3</td>\n",
       "    </tr>\n",
       "    <tr>\n",
       "      <th>194</th>\n",
       "      <td>QN99</td>\n",
       "      <td>1</td>\n",
       "    </tr>\n",
       "  </tbody>\n",
       "</table>\n",
       "<p>195 rows × 2 columns</p>\n",
       "</div>"
      ],
      "text/plain": [
       "    NTACode  count\n",
       "0      BK88     13\n",
       "1      QN52      4\n",
       "2      QN48      2\n",
       "3      QN51      4\n",
       "4      QN27      6\n",
       "5      BX46      3\n",
       "6      BX35     16\n",
       "7      BX98      0\n",
       "8      QN28     38\n",
       "9      BX55      5\n",
       "10     QN07      4\n",
       "11     MN06      3\n",
       "12     QN02      3\n",
       "13     QN71      3\n",
       "14     QN46     21\n",
       "15     QN38      1\n",
       "16     QN68      4\n",
       "17     BX13      4\n",
       "18     MN15      8\n",
       "19     BK25      5\n",
       "20     BX59      4\n",
       "21     BK68     10\n",
       "22     QN41      2\n",
       "23     MN11     18\n",
       "24     SI99      0\n",
       "25     QN18      8\n",
       "26     MN17      9\n",
       "27     MN19      5\n",
       "28     MN31     10\n",
       "29     BX01      8\n",
       "..      ...    ...\n",
       "165    QN45     11\n",
       "166    QN05      1\n",
       "167    BK78     17\n",
       "168    BK77      7\n",
       "169    QN20     13\n",
       "170    MN24     39\n",
       "171    MN27     11\n",
       "172    QN43      4\n",
       "173    QN44      3\n",
       "174    BX26      6\n",
       "175    BX40     10\n",
       "176    BX41     17\n",
       "177    QN10     11\n",
       "178    BX14     12\n",
       "179    BX63      5\n",
       "180    MN03     24\n",
       "181    MN34     32\n",
       "182    BX28      9\n",
       "183    BX43     13\n",
       "184    BK46      0\n",
       "185    QN22     16\n",
       "186    QN23      6\n",
       "187    QN53      6\n",
       "188    SI22     11\n",
       "189    SI35      4\n",
       "190    BK99      3\n",
       "191    BX22      7\n",
       "192    BX29      7\n",
       "193    QN19      3\n",
       "194    QN99      1\n",
       "\n",
       "[195 rows x 2 columns]"
      ]
     },
     "execution_count": 19,
     "metadata": {},
     "output_type": "execute_result"
    }
   ],
   "source": [
    "NTAbenchplaz"
   ]
  },
  {
   "cell_type": "code",
   "execution_count": null,
   "metadata": {
    "collapsed": true
   },
   "outputs": [],
   "source": [
    "benchlength = benchlength .merge(ct_to_nta, on='NTA', how='inner')"
   ]
  },
  {
   "cell_type": "code",
   "execution_count": 478,
   "metadata": {
    "collapsed": false
   },
   "outputs": [],
   "source": [
    "\n",
    "\n",
    "street_len_nta['TREES_PER_UNIT_LENGTH'] = street_len_nta['count'] / streetlen['NTA_STREET_LEN']  "
   ]
  },
  {
   "cell_type": "code",
   "execution_count": 484,
   "metadata": {
    "collapsed": false
   },
   "outputs": [],
   "source": [
    "#std_scaler = preprocessing.StandardScaler()\n",
    "#street_len_nta['STD_TREES_PER_UNIT_LENGTH'] = std_scaler.fit_transform(street_len_nta['TREES_PER_UNIT_LENGTH'])\n"
   ]
  },
  {
   "cell_type": "code",
   "execution_count": 487,
   "metadata": {
    "collapsed": false
   },
   "outputs": [],
   "source": [
    "#street_len_nta.rename(index=str, columns={'NTA':'NTACode'}, inplace=True)"
   ]
  },
  {
   "cell_type": "code",
   "execution_count": 489,
   "metadata": {
    "collapsed": false
   },
   "outputs": [],
   "source": [
    "#street_quality_indicator = street_len_nta[['NTACode','STD_TREES_PER_UNIT_LENGTH']]"
   ]
  },
  {
   "cell_type": "code",
   "execution_count": 491,
   "metadata": {
    "collapsed": false
   },
   "outputs": [],
   "source": [
    "street_quality_indicator.to_csv('StreetTreesIndicator.csv')"
   ]
  },
  {
   "cell_type": "code",
   "execution_count": null,
   "metadata": {
    "collapsed": true
   },
   "outputs": [],
   "source": []
  },
  {
   "cell_type": "code",
   "execution_count": 10,
   "metadata": {
    "collapsed": false
   },
   "outputs": [
    {
     "data": {
      "text/html": [
       "<div style=\"max-height:1000px;max-width:1500px;overflow:auto;\">\n",
       "<table border=\"1\" class=\"dataframe\">\n",
       "  <thead>\n",
       "    <tr style=\"text-align: right;\">\n",
       "      <th></th>\n",
       "      <th>Unnamed: 0</th>\n",
       "      <th>NTA_STREET_LEN</th>\n",
       "      <th>NTA</th>\n",
       "    </tr>\n",
       "  </thead>\n",
       "  <tbody>\n",
       "    <tr>\n",
       "      <th>0</th>\n",
       "      <td>1</td>\n",
       "      <td>84074.400771</td>\n",
       "      <td>BK09</td>\n",
       "    </tr>\n",
       "    <tr>\n",
       "      <th>1</th>\n",
       "      <td>2</td>\n",
       "      <td>416142.744684</td>\n",
       "      <td>BK17</td>\n",
       "    </tr>\n",
       "    <tr>\n",
       "      <th>2</th>\n",
       "      <td>3</td>\n",
       "      <td>155225.173873</td>\n",
       "      <td>BK19</td>\n",
       "    </tr>\n",
       "    <tr>\n",
       "      <th>3</th>\n",
       "      <td>4</td>\n",
       "      <td>164313.426249</td>\n",
       "      <td>BK21</td>\n",
       "    </tr>\n",
       "    <tr>\n",
       "      <th>4</th>\n",
       "      <td>5</td>\n",
       "      <td>43969.882557</td>\n",
       "      <td>BK23</td>\n",
       "    </tr>\n",
       "    <tr>\n",
       "      <th>5</th>\n",
       "      <td>6</td>\n",
       "      <td>183791.636138</td>\n",
       "      <td>BK25</td>\n",
       "    </tr>\n",
       "    <tr>\n",
       "      <th>6</th>\n",
       "      <td>7</td>\n",
       "      <td>145410.117910</td>\n",
       "      <td>BK26</td>\n",
       "    </tr>\n",
       "    <tr>\n",
       "      <th>7</th>\n",
       "      <td>8</td>\n",
       "      <td>137352.828666</td>\n",
       "      <td>BK27</td>\n",
       "    </tr>\n",
       "    <tr>\n",
       "      <th>8</th>\n",
       "      <td>9</td>\n",
       "      <td>270872.626524</td>\n",
       "      <td>BK28</td>\n",
       "    </tr>\n",
       "    <tr>\n",
       "      <th>9</th>\n",
       "      <td>10</td>\n",
       "      <td>221205.290930</td>\n",
       "      <td>BK29</td>\n",
       "    </tr>\n",
       "    <tr>\n",
       "      <th>10</th>\n",
       "      <td>11</td>\n",
       "      <td>196392.395790</td>\n",
       "      <td>BK30</td>\n",
       "    </tr>\n",
       "    <tr>\n",
       "      <th>11</th>\n",
       "      <td>12</td>\n",
       "      <td>542604.480790</td>\n",
       "      <td>BK31</td>\n",
       "    </tr>\n",
       "    <tr>\n",
       "      <th>12</th>\n",
       "      <td>13</td>\n",
       "      <td>264716.639124</td>\n",
       "      <td>BK32</td>\n",
       "    </tr>\n",
       "    <tr>\n",
       "      <th>13</th>\n",
       "      <td>14</td>\n",
       "      <td>284765.643677</td>\n",
       "      <td>BK33</td>\n",
       "    </tr>\n",
       "    <tr>\n",
       "      <th>14</th>\n",
       "      <td>15</td>\n",
       "      <td>151810.662104</td>\n",
       "      <td>BK34</td>\n",
       "    </tr>\n",
       "    <tr>\n",
       "      <th>15</th>\n",
       "      <td>16</td>\n",
       "      <td>218877.059664</td>\n",
       "      <td>BK35</td>\n",
       "    </tr>\n",
       "    <tr>\n",
       "      <th>16</th>\n",
       "      <td>17</td>\n",
       "      <td>260424.713683</td>\n",
       "      <td>BK37</td>\n",
       "    </tr>\n",
       "    <tr>\n",
       "      <th>17</th>\n",
       "      <td>18</td>\n",
       "      <td>232321.459360</td>\n",
       "      <td>BK38</td>\n",
       "    </tr>\n",
       "    <tr>\n",
       "      <th>18</th>\n",
       "      <td>19</td>\n",
       "      <td>117310.890530</td>\n",
       "      <td>BK40</td>\n",
       "    </tr>\n",
       "    <tr>\n",
       "      <th>19</th>\n",
       "      <td>20</td>\n",
       "      <td>94599.622909</td>\n",
       "      <td>BK41</td>\n",
       "    </tr>\n",
       "    <tr>\n",
       "      <th>20</th>\n",
       "      <td>21</td>\n",
       "      <td>271821.913432</td>\n",
       "      <td>BK42</td>\n",
       "    </tr>\n",
       "    <tr>\n",
       "      <th>21</th>\n",
       "      <td>22</td>\n",
       "      <td>198556.871448</td>\n",
       "      <td>BK43</td>\n",
       "    </tr>\n",
       "    <tr>\n",
       "      <th>22</th>\n",
       "      <td>23</td>\n",
       "      <td>180801.987988</td>\n",
       "      <td>BK44</td>\n",
       "    </tr>\n",
       "    <tr>\n",
       "      <th>23</th>\n",
       "      <td>24</td>\n",
       "      <td>350992.373746</td>\n",
       "      <td>BK45</td>\n",
       "    </tr>\n",
       "    <tr>\n",
       "      <th>24</th>\n",
       "      <td>25</td>\n",
       "      <td>97723.791994</td>\n",
       "      <td>BK46</td>\n",
       "    </tr>\n",
       "    <tr>\n",
       "      <th>25</th>\n",
       "      <td>26</td>\n",
       "      <td>440682.315642</td>\n",
       "      <td>BK50</td>\n",
       "    </tr>\n",
       "    <tr>\n",
       "      <th>26</th>\n",
       "      <td>27</td>\n",
       "      <td>347152.892751</td>\n",
       "      <td>BK58</td>\n",
       "    </tr>\n",
       "    <tr>\n",
       "      <th>27</th>\n",
       "      <td>28</td>\n",
       "      <td>184590.034390</td>\n",
       "      <td>BK60</td>\n",
       "    </tr>\n",
       "    <tr>\n",
       "      <th>28</th>\n",
       "      <td>29</td>\n",
       "      <td>303833.606550</td>\n",
       "      <td>BK61</td>\n",
       "    </tr>\n",
       "    <tr>\n",
       "      <th>29</th>\n",
       "      <td>30</td>\n",
       "      <td>117969.669181</td>\n",
       "      <td>BK63</td>\n",
       "    </tr>\n",
       "    <tr>\n",
       "      <th>...</th>\n",
       "      <td>...</td>\n",
       "      <td>...</td>\n",
       "      <td>...</td>\n",
       "    </tr>\n",
       "    <tr>\n",
       "      <th>163</th>\n",
       "      <td>164</td>\n",
       "      <td>146980.473181</td>\n",
       "      <td>QN60</td>\n",
       "    </tr>\n",
       "    <tr>\n",
       "      <th>164</th>\n",
       "      <td>165</td>\n",
       "      <td>267428.234409</td>\n",
       "      <td>QN61</td>\n",
       "    </tr>\n",
       "    <tr>\n",
       "      <th>165</th>\n",
       "      <td>166</td>\n",
       "      <td>175482.964028</td>\n",
       "      <td>QN62</td>\n",
       "    </tr>\n",
       "    <tr>\n",
       "      <th>166</th>\n",
       "      <td>167</td>\n",
       "      <td>198280.468124</td>\n",
       "      <td>QN63</td>\n",
       "    </tr>\n",
       "    <tr>\n",
       "      <th>167</th>\n",
       "      <td>168</td>\n",
       "      <td>242851.752887</td>\n",
       "      <td>QN66</td>\n",
       "    </tr>\n",
       "    <tr>\n",
       "      <th>168</th>\n",
       "      <td>169</td>\n",
       "      <td>143797.764448</td>\n",
       "      <td>QN68</td>\n",
       "    </tr>\n",
       "    <tr>\n",
       "      <th>169</th>\n",
       "      <td>170</td>\n",
       "      <td>247357.615733</td>\n",
       "      <td>QN70</td>\n",
       "    </tr>\n",
       "    <tr>\n",
       "      <th>170</th>\n",
       "      <td>171</td>\n",
       "      <td>93633.698966</td>\n",
       "      <td>QN71</td>\n",
       "    </tr>\n",
       "    <tr>\n",
       "      <th>171</th>\n",
       "      <td>172</td>\n",
       "      <td>407487.677971</td>\n",
       "      <td>QN72</td>\n",
       "    </tr>\n",
       "    <tr>\n",
       "      <th>172</th>\n",
       "      <td>173</td>\n",
       "      <td>267381.082379</td>\n",
       "      <td>QN76</td>\n",
       "    </tr>\n",
       "    <tr>\n",
       "      <th>173</th>\n",
       "      <td>174</td>\n",
       "      <td>569165.922199</td>\n",
       "      <td>QN98</td>\n",
       "    </tr>\n",
       "    <tr>\n",
       "      <th>174</th>\n",
       "      <td>175</td>\n",
       "      <td>918857.086693</td>\n",
       "      <td>QN99</td>\n",
       "    </tr>\n",
       "    <tr>\n",
       "      <th>175</th>\n",
       "      <td>176</td>\n",
       "      <td>548807.637779</td>\n",
       "      <td>SI01</td>\n",
       "    </tr>\n",
       "    <tr>\n",
       "      <th>176</th>\n",
       "      <td>177</td>\n",
       "      <td>892576.577897</td>\n",
       "      <td>SI05</td>\n",
       "    </tr>\n",
       "    <tr>\n",
       "      <th>177</th>\n",
       "      <td>178</td>\n",
       "      <td>362426.786672</td>\n",
       "      <td>SI07</td>\n",
       "    </tr>\n",
       "    <tr>\n",
       "      <th>178</th>\n",
       "      <td>179</td>\n",
       "      <td>205888.243293</td>\n",
       "      <td>SI08</td>\n",
       "    </tr>\n",
       "    <tr>\n",
       "      <th>179</th>\n",
       "      <td>180</td>\n",
       "      <td>469762.430327</td>\n",
       "      <td>SI11</td>\n",
       "    </tr>\n",
       "    <tr>\n",
       "      <th>180</th>\n",
       "      <td>181</td>\n",
       "      <td>294986.107439</td>\n",
       "      <td>SI12</td>\n",
       "    </tr>\n",
       "    <tr>\n",
       "      <th>181</th>\n",
       "      <td>182</td>\n",
       "      <td>255358.252803</td>\n",
       "      <td>SI14</td>\n",
       "    </tr>\n",
       "    <tr>\n",
       "      <th>182</th>\n",
       "      <td>183</td>\n",
       "      <td>302894.858623</td>\n",
       "      <td>SI22</td>\n",
       "    </tr>\n",
       "    <tr>\n",
       "      <th>183</th>\n",
       "      <td>184</td>\n",
       "      <td>562773.536782</td>\n",
       "      <td>SI24</td>\n",
       "    </tr>\n",
       "    <tr>\n",
       "      <th>184</th>\n",
       "      <td>185</td>\n",
       "      <td>284044.987944</td>\n",
       "      <td>SI25</td>\n",
       "    </tr>\n",
       "    <tr>\n",
       "      <th>185</th>\n",
       "      <td>186</td>\n",
       "      <td>315001.256829</td>\n",
       "      <td>SI28</td>\n",
       "    </tr>\n",
       "    <tr>\n",
       "      <th>186</th>\n",
       "      <td>187</td>\n",
       "      <td>309072.830593</td>\n",
       "      <td>SI32</td>\n",
       "    </tr>\n",
       "    <tr>\n",
       "      <th>187</th>\n",
       "      <td>188</td>\n",
       "      <td>229168.003886</td>\n",
       "      <td>SI35</td>\n",
       "    </tr>\n",
       "    <tr>\n",
       "      <th>188</th>\n",
       "      <td>189</td>\n",
       "      <td>292261.225507</td>\n",
       "      <td>SI36</td>\n",
       "    </tr>\n",
       "    <tr>\n",
       "      <th>189</th>\n",
       "      <td>190</td>\n",
       "      <td>279548.180349</td>\n",
       "      <td>SI37</td>\n",
       "    </tr>\n",
       "    <tr>\n",
       "      <th>190</th>\n",
       "      <td>191</td>\n",
       "      <td>282098.034520</td>\n",
       "      <td>SI45</td>\n",
       "    </tr>\n",
       "    <tr>\n",
       "      <th>191</th>\n",
       "      <td>192</td>\n",
       "      <td>236162.878299</td>\n",
       "      <td>SI48</td>\n",
       "    </tr>\n",
       "    <tr>\n",
       "      <th>192</th>\n",
       "      <td>193</td>\n",
       "      <td>438286.442567</td>\n",
       "      <td>SI54</td>\n",
       "    </tr>\n",
       "  </tbody>\n",
       "</table>\n",
       "<p>193 rows × 3 columns</p>\n",
       "</div>"
      ],
      "text/plain": [
       "     Unnamed: 0  NTA_STREET_LEN   NTA\n",
       "0             1    84074.400771  BK09\n",
       "1             2   416142.744684  BK17\n",
       "2             3   155225.173873  BK19\n",
       "3             4   164313.426249  BK21\n",
       "4             5    43969.882557  BK23\n",
       "5             6   183791.636138  BK25\n",
       "6             7   145410.117910  BK26\n",
       "7             8   137352.828666  BK27\n",
       "8             9   270872.626524  BK28\n",
       "9            10   221205.290930  BK29\n",
       "10           11   196392.395790  BK30\n",
       "11           12   542604.480790  BK31\n",
       "12           13   264716.639124  BK32\n",
       "13           14   284765.643677  BK33\n",
       "14           15   151810.662104  BK34\n",
       "15           16   218877.059664  BK35\n",
       "16           17   260424.713683  BK37\n",
       "17           18   232321.459360  BK38\n",
       "18           19   117310.890530  BK40\n",
       "19           20    94599.622909  BK41\n",
       "20           21   271821.913432  BK42\n",
       "21           22   198556.871448  BK43\n",
       "22           23   180801.987988  BK44\n",
       "23           24   350992.373746  BK45\n",
       "24           25    97723.791994  BK46\n",
       "25           26   440682.315642  BK50\n",
       "26           27   347152.892751  BK58\n",
       "27           28   184590.034390  BK60\n",
       "28           29   303833.606550  BK61\n",
       "29           30   117969.669181  BK63\n",
       "..          ...             ...   ...\n",
       "163         164   146980.473181  QN60\n",
       "164         165   267428.234409  QN61\n",
       "165         166   175482.964028  QN62\n",
       "166         167   198280.468124  QN63\n",
       "167         168   242851.752887  QN66\n",
       "168         169   143797.764448  QN68\n",
       "169         170   247357.615733  QN70\n",
       "170         171    93633.698966  QN71\n",
       "171         172   407487.677971  QN72\n",
       "172         173   267381.082379  QN76\n",
       "173         174   569165.922199  QN98\n",
       "174         175   918857.086693  QN99\n",
       "175         176   548807.637779  SI01\n",
       "176         177   892576.577897  SI05\n",
       "177         178   362426.786672  SI07\n",
       "178         179   205888.243293  SI08\n",
       "179         180   469762.430327  SI11\n",
       "180         181   294986.107439  SI12\n",
       "181         182   255358.252803  SI14\n",
       "182         183   302894.858623  SI22\n",
       "183         184   562773.536782  SI24\n",
       "184         185   284044.987944  SI25\n",
       "185         186   315001.256829  SI28\n",
       "186         187   309072.830593  SI32\n",
       "187         188   229168.003886  SI35\n",
       "188         189   292261.225507  SI36\n",
       "189         190   279548.180349  SI37\n",
       "190         191   282098.034520  SI45\n",
       "191         192   236162.878299  SI48\n",
       "192         193   438286.442567  SI54\n",
       "\n",
       "[193 rows x 3 columns]"
      ]
     },
     "execution_count": 10,
     "metadata": {},
     "output_type": "execute_result"
    }
   ],
   "source": [
    "streetlen"
   ]
  },
  {
   "cell_type": "code",
   "execution_count": null,
   "metadata": {
    "collapsed": true
   },
   "outputs": [],
   "source": []
  }
 ],
 "metadata": {
  "kernelspec": {
   "display_name": "Python 2",
   "language": "python",
   "name": "python2"
  },
  "language_info": {
   "codemirror_mode": {
    "name": "ipython",
    "version": 2
   },
   "file_extension": ".py",
   "mimetype": "text/x-python",
   "name": "python",
   "nbconvert_exporter": "python",
   "pygments_lexer": "ipython2",
   "version": "2.7.11"
  }
 },
 "nbformat": 4,
 "nbformat_minor": 0
}
