{
 "cells": [
  {
   "cell_type": "markdown",
   "metadata": {},
   "source": [
    "# Data munging for input into otp routing"
   ]
  },
  {
   "cell_type": "code",
   "execution_count": 1,
   "metadata": {
    "collapsed": true
   },
   "outputs": [],
   "source": [
    "import pandas as pd\n",
    "import numpy as np\n",
    "import geopandas as gp\n",
    "import matplotlib.pyplot as plt\n",
    "\n",
    "%matplotlib inline"
   ]
  },
  {
   "cell_type": "code",
   "execution_count": 90,
   "metadata": {
    "collapsed": false
   },
   "outputs": [],
   "source": [
    "#Data Reading\n",
    "pop_bk = pd.read_csv('../../data/general/census_blocks/brooklyn/DEC_10_SF1_P1_with_ann.csv')\n",
    "pop_bx = pd.read_csv('../../data/general/census_blocks/queens/DEC_10_SF1_P1_with_ann.csv')\n",
    "pop_mn = pd.read_csv('../../data/general/census_blocks/bronx/DEC_10_SF1_P1_with_ann.csv')\n",
    "pop_qu = pd.read_csv('../../data/general/census_blocks/manhattan/DEC_10_SF1_P1_with_ann.csv')\n",
    "pop_si = pd.read_csv('../../data/general/census_blocks/si/DEC_10_SF1_P1_with_ann.csv')\n",
    "\n",
    "cb = gp.GeoDataFrame.from_file('../../data/2010 Census Blocks.geojson')"
   ]
  },
  {
   "cell_type": "code",
   "execution_count": 3,
   "metadata": {
    "collapsed": false
   },
   "outputs": [
    {
     "name": "stdout",
     "output_type": "stream",
     "text": [
      "39153\n"
     ]
    }
   ],
   "source": [
    "print pop_bk.shape[0] + pop_bx.shape[0]+ pop_mn.shape[0]+ pop_qu.shape[0] +pop_si.shape[0]"
   ]
  },
  {
   "cell_type": "code",
   "execution_count": 4,
   "metadata": {
    "collapsed": true
   },
   "outputs": [],
   "source": [
    "pop = pd.concat([pop_bk,pop_bx,pop_mn,pop_qu,pop_si])"
   ]
  },
  {
   "cell_type": "code",
   "execution_count": 5,
   "metadata": {
    "collapsed": false
   },
   "outputs": [
    {
     "data": {
      "text/plain": [
       "(39153, 4)"
      ]
     },
     "execution_count": 5,
     "metadata": {},
     "output_type": "execute_result"
    }
   ],
   "source": [
    "pop.shape"
   ]
  },
  {
   "cell_type": "code",
   "execution_count": 6,
   "metadata": {
    "collapsed": false
   },
   "outputs": [
    {
     "data": {
      "text/html": [
       "<div style=\"max-height:1000px;max-width:1500px;overflow:auto;\">\n",
       "<table border=\"1\" class=\"dataframe\">\n",
       "  <thead>\n",
       "    <tr style=\"text-align: right;\">\n",
       "      <th></th>\n",
       "      <th>GEO.id</th>\n",
       "      <th>GEO.id2</th>\n",
       "      <th>GEO.display-label</th>\n",
       "      <th>D001</th>\n",
       "    </tr>\n",
       "  </thead>\n",
       "  <tbody>\n",
       "    <tr>\n",
       "      <th>0</th>\n",
       "      <td>Id</td>\n",
       "      <td>Id2</td>\n",
       "      <td>Geography</td>\n",
       "      <td>Total</td>\n",
       "    </tr>\n",
       "    <tr>\n",
       "      <th>1</th>\n",
       "      <td>1000000US360470001001000</td>\n",
       "      <td>360470001001000</td>\n",
       "      <td>Block 1000, Block Group 1, Census Tract 1, Kin...</td>\n",
       "      <td>181</td>\n",
       "    </tr>\n",
       "    <tr>\n",
       "      <th>2</th>\n",
       "      <td>1000000US360470001001001</td>\n",
       "      <td>360470001001001</td>\n",
       "      <td>Block 1001, Block Group 1, Census Tract 1, Kin...</td>\n",
       "      <td>16</td>\n",
       "    </tr>\n",
       "    <tr>\n",
       "      <th>3</th>\n",
       "      <td>1000000US360470001001002</td>\n",
       "      <td>360470001001002</td>\n",
       "      <td>Block 1002, Block Group 1, Census Tract 1, Kin...</td>\n",
       "      <td>31</td>\n",
       "    </tr>\n",
       "    <tr>\n",
       "      <th>4</th>\n",
       "      <td>1000000US360470001001003</td>\n",
       "      <td>360470001001003</td>\n",
       "      <td>Block 1003, Block Group 1, Census Tract 1, Kin...</td>\n",
       "      <td>0</td>\n",
       "    </tr>\n",
       "  </tbody>\n",
       "</table>\n",
       "</div>"
      ],
      "text/plain": [
       "                     GEO.id          GEO.id2  \\\n",
       "0                        Id              Id2   \n",
       "1  1000000US360470001001000  360470001001000   \n",
       "2  1000000US360470001001001  360470001001001   \n",
       "3  1000000US360470001001002  360470001001002   \n",
       "4  1000000US360470001001003  360470001001003   \n",
       "\n",
       "                                   GEO.display-label   D001  \n",
       "0                                          Geography  Total  \n",
       "1  Block 1000, Block Group 1, Census Tract 1, Kin...    181  \n",
       "2  Block 1001, Block Group 1, Census Tract 1, Kin...     16  \n",
       "3  Block 1002, Block Group 1, Census Tract 1, Kin...     31  \n",
       "4  Block 1003, Block Group 1, Census Tract 1, Kin...      0  "
      ]
     },
     "execution_count": 6,
     "metadata": {},
     "output_type": "execute_result"
    }
   ],
   "source": [
    "pop.head()"
   ]
  },
  {
   "cell_type": "code",
   "execution_count": 91,
   "metadata": {
    "collapsed": false
   },
   "outputs": [
    {
     "data": {
      "text/html": [
       "<div style=\"max-height:1000px;max-width:1500px;overflow:auto;\">\n",
       "<table border=\"1\" class=\"dataframe\">\n",
       "  <thead>\n",
       "    <tr style=\"text-align: right;\">\n",
       "      <th></th>\n",
       "      <th>bctcb2010</th>\n",
       "      <th>boro_code</th>\n",
       "      <th>boro_name</th>\n",
       "      <th>cb2010</th>\n",
       "      <th>ct2010</th>\n",
       "      <th>geometry</th>\n",
       "      <th>shape_area</th>\n",
       "      <th>shape_leng</th>\n",
       "    </tr>\n",
       "  </thead>\n",
       "  <tbody>\n",
       "    <tr>\n",
       "      <th>0</th>\n",
       "      <td>50009001000</td>\n",
       "      <td>5</td>\n",
       "      <td>Staten Island</td>\n",
       "      <td>1000</td>\n",
       "      <td>000900</td>\n",
       "      <td>(POLYGON ((-74.07920577013245 40.6434307837456...</td>\n",
       "      <td>244589.603884</td>\n",
       "      <td>2508.94811457</td>\n",
       "    </tr>\n",
       "    <tr>\n",
       "      <th>1</th>\n",
       "      <td>50020011000</td>\n",
       "      <td>5</td>\n",
       "      <td>Staten Island</td>\n",
       "      <td>1000</td>\n",
       "      <td>002001</td>\n",
       "      <td>(POLYGON ((-74.07061992438017 40.6108550670541...</td>\n",
       "      <td>111006.286826</td>\n",
       "      <td>1345.88642172</td>\n",
       "    </tr>\n",
       "    <tr>\n",
       "      <th>2</th>\n",
       "      <td>50027001000</td>\n",
       "      <td>5</td>\n",
       "      <td>Staten Island</td>\n",
       "      <td>1000</td>\n",
       "      <td>002700</td>\n",
       "      <td>(POLYGON ((-74.07524403976549 40.6260063240241...</td>\n",
       "      <td>150406.784296</td>\n",
       "      <td>1703.38105769</td>\n",
       "    </tr>\n",
       "    <tr>\n",
       "      <th>3</th>\n",
       "      <td>50040001000</td>\n",
       "      <td>5</td>\n",
       "      <td>Staten Island</td>\n",
       "      <td>1000</td>\n",
       "      <td>004000</td>\n",
       "      <td>(POLYGON ((-74.08708799689826 40.6111688312392...</td>\n",
       "      <td>141296.561149</td>\n",
       "      <td>1511.17374266</td>\n",
       "    </tr>\n",
       "    <tr>\n",
       "      <th>4</th>\n",
       "      <td>50064001000</td>\n",
       "      <td>5</td>\n",
       "      <td>Staten Island</td>\n",
       "      <td>1000</td>\n",
       "      <td>006400</td>\n",
       "      <td>(POLYGON ((-74.07643744511992 40.6010016065558...</td>\n",
       "      <td>200784.983607</td>\n",
       "      <td>1978.24385199</td>\n",
       "    </tr>\n",
       "  </tbody>\n",
       "</table>\n",
       "</div>"
      ],
      "text/plain": [
       "     bctcb2010 boro_code      boro_name cb2010  ct2010  \\\n",
       "0  50009001000         5  Staten Island   1000  000900   \n",
       "1  50020011000         5  Staten Island   1000  002001   \n",
       "2  50027001000         5  Staten Island   1000  002700   \n",
       "3  50040001000         5  Staten Island   1000  004000   \n",
       "4  50064001000         5  Staten Island   1000  006400   \n",
       "\n",
       "                                            geometry     shape_area  \\\n",
       "0  (POLYGON ((-74.07920577013245 40.6434307837456...  244589.603884   \n",
       "1  (POLYGON ((-74.07061992438017 40.6108550670541...  111006.286826   \n",
       "2  (POLYGON ((-74.07524403976549 40.6260063240241...  150406.784296   \n",
       "3  (POLYGON ((-74.08708799689826 40.6111688312392...  141296.561149   \n",
       "4  (POLYGON ((-74.07643744511992 40.6010016065558...  200784.983607   \n",
       "\n",
       "      shape_leng  \n",
       "0  2508.94811457  \n",
       "1  1345.88642172  \n",
       "2  1703.38105769  \n",
       "3  1511.17374266  \n",
       "4  1978.24385199  "
      ]
     },
     "execution_count": 91,
     "metadata": {},
     "output_type": "execute_result"
    }
   ],
   "source": [
    "cb.head()"
   ]
  },
  {
   "cell_type": "code",
   "execution_count": 92,
   "metadata": {
    "collapsed": true
   },
   "outputs": [],
   "source": [
    "cb['County'] = \"\""
   ]
  },
  {
   "cell_type": "code",
   "execution_count": 93,
   "metadata": {
    "collapsed": false
   },
   "outputs": [
    {
     "data": {
      "text/html": [
       "<div style=\"max-height:1000px;max-width:1500px;overflow:auto;\">\n",
       "<table border=\"1\" class=\"dataframe\">\n",
       "  <thead>\n",
       "    <tr style=\"text-align: right;\">\n",
       "      <th></th>\n",
       "      <th>bctcb2010</th>\n",
       "      <th>boro_code</th>\n",
       "      <th>boro_name</th>\n",
       "      <th>cb2010</th>\n",
       "      <th>ct2010</th>\n",
       "      <th>geometry</th>\n",
       "      <th>shape_area</th>\n",
       "      <th>shape_leng</th>\n",
       "      <th>County</th>\n",
       "    </tr>\n",
       "  </thead>\n",
       "  <tbody>\n",
       "    <tr>\n",
       "      <th>0</th>\n",
       "      <td>50009001000</td>\n",
       "      <td>5</td>\n",
       "      <td>Staten Island</td>\n",
       "      <td>1000</td>\n",
       "      <td>000900</td>\n",
       "      <td>(POLYGON ((-74.07920577013245 40.6434307837456...</td>\n",
       "      <td>244589.603884</td>\n",
       "      <td>2508.94811457</td>\n",
       "      <td></td>\n",
       "    </tr>\n",
       "    <tr>\n",
       "      <th>1</th>\n",
       "      <td>50020011000</td>\n",
       "      <td>5</td>\n",
       "      <td>Staten Island</td>\n",
       "      <td>1000</td>\n",
       "      <td>002001</td>\n",
       "      <td>(POLYGON ((-74.07061992438017 40.6108550670541...</td>\n",
       "      <td>111006.286826</td>\n",
       "      <td>1345.88642172</td>\n",
       "      <td></td>\n",
       "    </tr>\n",
       "    <tr>\n",
       "      <th>2</th>\n",
       "      <td>50027001000</td>\n",
       "      <td>5</td>\n",
       "      <td>Staten Island</td>\n",
       "      <td>1000</td>\n",
       "      <td>002700</td>\n",
       "      <td>(POLYGON ((-74.07524403976549 40.6260063240241...</td>\n",
       "      <td>150406.784296</td>\n",
       "      <td>1703.38105769</td>\n",
       "      <td></td>\n",
       "    </tr>\n",
       "    <tr>\n",
       "      <th>3</th>\n",
       "      <td>50040001000</td>\n",
       "      <td>5</td>\n",
       "      <td>Staten Island</td>\n",
       "      <td>1000</td>\n",
       "      <td>004000</td>\n",
       "      <td>(POLYGON ((-74.08708799689826 40.6111688312392...</td>\n",
       "      <td>141296.561149</td>\n",
       "      <td>1511.17374266</td>\n",
       "      <td></td>\n",
       "    </tr>\n",
       "    <tr>\n",
       "      <th>4</th>\n",
       "      <td>50064001000</td>\n",
       "      <td>5</td>\n",
       "      <td>Staten Island</td>\n",
       "      <td>1000</td>\n",
       "      <td>006400</td>\n",
       "      <td>(POLYGON ((-74.07643744511992 40.6010016065558...</td>\n",
       "      <td>200784.983607</td>\n",
       "      <td>1978.24385199</td>\n",
       "      <td></td>\n",
       "    </tr>\n",
       "  </tbody>\n",
       "</table>\n",
       "</div>"
      ],
      "text/plain": [
       "     bctcb2010 boro_code      boro_name cb2010  ct2010  \\\n",
       "0  50009001000         5  Staten Island   1000  000900   \n",
       "1  50020011000         5  Staten Island   1000  002001   \n",
       "2  50027001000         5  Staten Island   1000  002700   \n",
       "3  50040001000         5  Staten Island   1000  004000   \n",
       "4  50064001000         5  Staten Island   1000  006400   \n",
       "\n",
       "                                            geometry     shape_area  \\\n",
       "0  (POLYGON ((-74.07920577013245 40.6434307837456...  244589.603884   \n",
       "1  (POLYGON ((-74.07061992438017 40.6108550670541...  111006.286826   \n",
       "2  (POLYGON ((-74.07524403976549 40.6260063240241...  150406.784296   \n",
       "3  (POLYGON ((-74.08708799689826 40.6111688312392...  141296.561149   \n",
       "4  (POLYGON ((-74.07643744511992 40.6010016065558...  200784.983607   \n",
       "\n",
       "      shape_leng County  \n",
       "0  2508.94811457         \n",
       "1  1345.88642172         \n",
       "2  1703.38105769         \n",
       "3  1511.17374266         \n",
       "4  1978.24385199         "
      ]
     },
     "execution_count": 93,
     "metadata": {},
     "output_type": "execute_result"
    }
   ],
   "source": [
    "cb.head()"
   ]
  },
  {
   "cell_type": "code",
   "execution_count": 94,
   "metadata": {
    "collapsed": false
   },
   "outputs": [
    {
     "name": "stdout",
     "output_type": "stream",
     "text": [
      "Borocodes\n",
      "1 : Manhattan\n",
      "2 : Bronx\n",
      "3 : Brooklyn\n",
      "4 : Queens\n",
      "5 : Staten Island\n"
     ]
    }
   ],
   "source": [
    "print \"Borocodes\"\n",
    "for i in range(1,6) :\n",
    "    print str(i)+ \" : \" +list(cb[cb['boro_code'] == str(i)]['boro_name'])[0]"
   ]
  },
  {
   "cell_type": "markdown",
   "metadata": {},
   "source": [
    "County codes \n",
    "- 005 - Bronx\n",
    "- 047 - Kings (Brooklyn)\n",
    "- 061 - New York (Manhattan)\n",
    "- 081 - Queens\n",
    "- 085 - Richmond (Staten Island)\n",
    "\n",
    "From : http://library.columbia.edu/locations/dssc/data/nycounty_fips.html"
   ]
  },
  {
   "cell_type": "code",
   "execution_count": 95,
   "metadata": {
    "collapsed": false
   },
   "outputs": [],
   "source": [
    "cb.loc[cb['boro_code'] == '5', 'County'] = '085'\n",
    "cb.loc[cb['boro_code'] == '4', 'County'] = '081'\n",
    "cb.loc[cb['boro_code'] == '3', 'County'] = '047'\n",
    "cb.loc[cb['boro_code'] == '2', 'County'] = '005'\n",
    "cb.loc[cb['boro_code'] == '1', 'County'] = '061'"
   ]
  },
  {
   "cell_type": "code",
   "execution_count": 97,
   "metadata": {
    "collapsed": false
   },
   "outputs": [],
   "source": [
    "cb['FIPS'] = cb['County']+cb['ct2010']+cb['cb2010']"
   ]
  },
  {
   "cell_type": "code",
   "execution_count": 98,
   "metadata": {
    "collapsed": false
   },
   "outputs": [],
   "source": [
    "cb['FIPS'] = cb['FIPS'].str.rjust(14,'6')\n",
    "cb['FIPS'] = cb['FIPS'].str.rjust(15,'3')"
   ]
  },
  {
   "cell_type": "code",
   "execution_count": 99,
   "metadata": {
    "collapsed": true
   },
   "outputs": [],
   "source": [
    "cb['centroid'] = gp.GeoSeries(cb['geometry'].centroid)\n"
   ]
  },
  {
   "cell_type": "code",
   "execution_count": 100,
   "metadata": {
    "collapsed": false
   },
   "outputs": [
    {
     "data": {
      "text/html": [
       "<div style=\"max-height:1000px;max-width:1500px;overflow:auto;\">\n",
       "<table border=\"1\" class=\"dataframe\">\n",
       "  <thead>\n",
       "    <tr style=\"text-align: right;\">\n",
       "      <th></th>\n",
       "      <th>bctcb2010</th>\n",
       "      <th>boro_code</th>\n",
       "      <th>boro_name</th>\n",
       "      <th>cb2010</th>\n",
       "      <th>ct2010</th>\n",
       "      <th>geometry</th>\n",
       "      <th>shape_area</th>\n",
       "      <th>shape_leng</th>\n",
       "      <th>County</th>\n",
       "      <th>FIPS</th>\n",
       "      <th>centroid</th>\n",
       "    </tr>\n",
       "  </thead>\n",
       "  <tbody>\n",
       "    <tr>\n",
       "      <th>0</th>\n",
       "      <td>50009001000</td>\n",
       "      <td>5</td>\n",
       "      <td>Staten Island</td>\n",
       "      <td>1000</td>\n",
       "      <td>000900</td>\n",
       "      <td>(POLYGON ((-74.07920577013245 40.6434307837456...</td>\n",
       "      <td>244589.603884</td>\n",
       "      <td>2508.94811457</td>\n",
       "      <td>085</td>\n",
       "      <td>360850009001000</td>\n",
       "      <td>POINT (-74.08059210475199 40.64407822940228)</td>\n",
       "    </tr>\n",
       "    <tr>\n",
       "      <th>1</th>\n",
       "      <td>50020011000</td>\n",
       "      <td>5</td>\n",
       "      <td>Staten Island</td>\n",
       "      <td>1000</td>\n",
       "      <td>002001</td>\n",
       "      <td>(POLYGON ((-74.07061992438017 40.6108550670541...</td>\n",
       "      <td>111006.286826</td>\n",
       "      <td>1345.88642172</td>\n",
       "      <td>085</td>\n",
       "      <td>360850020011000</td>\n",
       "      <td>POINT (-74.07147915547274 40.61089223200181)</td>\n",
       "    </tr>\n",
       "    <tr>\n",
       "      <th>2</th>\n",
       "      <td>50027001000</td>\n",
       "      <td>5</td>\n",
       "      <td>Staten Island</td>\n",
       "      <td>1000</td>\n",
       "      <td>002700</td>\n",
       "      <td>(POLYGON ((-74.07524403976549 40.6260063240241...</td>\n",
       "      <td>150406.784296</td>\n",
       "      <td>1703.38105769</td>\n",
       "      <td>085</td>\n",
       "      <td>360850027001000</td>\n",
       "      <td>POINT (-74.07650386649141 40.6262355465024)</td>\n",
       "    </tr>\n",
       "    <tr>\n",
       "      <th>3</th>\n",
       "      <td>50040001000</td>\n",
       "      <td>5</td>\n",
       "      <td>Staten Island</td>\n",
       "      <td>1000</td>\n",
       "      <td>004000</td>\n",
       "      <td>(POLYGON ((-74.08708799689826 40.6111688312392...</td>\n",
       "      <td>141296.561149</td>\n",
       "      <td>1511.17374266</td>\n",
       "      <td>085</td>\n",
       "      <td>360850040001000</td>\n",
       "      <td>POINT (-74.08801719603166 40.61106358037252)</td>\n",
       "    </tr>\n",
       "    <tr>\n",
       "      <th>4</th>\n",
       "      <td>50064001000</td>\n",
       "      <td>5</td>\n",
       "      <td>Staten Island</td>\n",
       "      <td>1000</td>\n",
       "      <td>006400</td>\n",
       "      <td>(POLYGON ((-74.07643744511992 40.6010016065558...</td>\n",
       "      <td>200784.983607</td>\n",
       "      <td>1978.24385199</td>\n",
       "      <td>085</td>\n",
       "      <td>360850064001000</td>\n",
       "      <td>POINT (-74.07792340280534 40.60095538875338)</td>\n",
       "    </tr>\n",
       "  </tbody>\n",
       "</table>\n",
       "</div>"
      ],
      "text/plain": [
       "     bctcb2010 boro_code      boro_name cb2010  ct2010  \\\n",
       "0  50009001000         5  Staten Island   1000  000900   \n",
       "1  50020011000         5  Staten Island   1000  002001   \n",
       "2  50027001000         5  Staten Island   1000  002700   \n",
       "3  50040001000         5  Staten Island   1000  004000   \n",
       "4  50064001000         5  Staten Island   1000  006400   \n",
       "\n",
       "                                            geometry     shape_area  \\\n",
       "0  (POLYGON ((-74.07920577013245 40.6434307837456...  244589.603884   \n",
       "1  (POLYGON ((-74.07061992438017 40.6108550670541...  111006.286826   \n",
       "2  (POLYGON ((-74.07524403976549 40.6260063240241...  150406.784296   \n",
       "3  (POLYGON ((-74.08708799689826 40.6111688312392...  141296.561149   \n",
       "4  (POLYGON ((-74.07643744511992 40.6010016065558...  200784.983607   \n",
       "\n",
       "      shape_leng County             FIPS  \\\n",
       "0  2508.94811457    085  360850009001000   \n",
       "1  1345.88642172    085  360850020011000   \n",
       "2  1703.38105769    085  360850027001000   \n",
       "3  1511.17374266    085  360850040001000   \n",
       "4  1978.24385199    085  360850064001000   \n",
       "\n",
       "                                       centroid  \n",
       "0  POINT (-74.08059210475199 40.64407822940228)  \n",
       "1  POINT (-74.07147915547274 40.61089223200181)  \n",
       "2   POINT (-74.07650386649141 40.6262355465024)  \n",
       "3  POINT (-74.08801719603166 40.61106358037252)  \n",
       "4  POINT (-74.07792340280534 40.60095538875338)  "
      ]
     },
     "execution_count": 100,
     "metadata": {},
     "output_type": "execute_result"
    }
   ],
   "source": [
    "cb.head()"
   ]
  },
  {
   "cell_type": "code",
   "execution_count": 101,
   "metadata": {
    "collapsed": false
   },
   "outputs": [],
   "source": [
    "cb['lon'] = [float(str(cb.ix[i]['centroid']).split(' ')[1][1:]) for i in range(len(cb))]\n",
    "cb['lat'] = [float(str(cb.ix[i]['centroid']).split(' ')[2][:-1]) for i in range(len(cb))]"
   ]
  },
  {
   "cell_type": "code",
   "execution_count": 23,
   "metadata": {
    "collapsed": false
   },
   "outputs": [
    {
     "data": {
      "text/plain": [
       "39145"
      ]
     },
     "execution_count": 23,
     "metadata": {},
     "output_type": "execute_result"
    }
   ],
   "source": [
    "len()"
   ]
  },
  {
   "cell_type": "code",
   "execution_count": 24,
   "metadata": {
    "collapsed": false
   },
   "outputs": [
    {
     "data": {
      "text/plain": [
       "39153"
      ]
     },
     "execution_count": 24,
     "metadata": {},
     "output_type": "execute_result"
    }
   ],
   "source": [
    "len(pop)"
   ]
  },
  {
   "cell_type": "code",
   "execution_count": 102,
   "metadata": {
    "collapsed": true
   },
   "outputs": [],
   "source": [
    "cb_required = cb[['FIPS', 'lat', 'lon']]"
   ]
  },
  {
   "cell_type": "code",
   "execution_count": null,
   "metadata": {
    "collapsed": true
   },
   "outputs": [],
   "source": []
  },
  {
   "cell_type": "code",
   "execution_count": 103,
   "metadata": {
    "collapsed": false
   },
   "outputs": [],
   "source": [
    "foo = cb_required.merge(pop, left_on='FIPS', right_on='GEO.id2', how='inner')"
   ]
  },
  {
   "cell_type": "code",
   "execution_count": 104,
   "metadata": {
    "collapsed": false
   },
   "outputs": [
    {
     "data": {
      "text/html": [
       "<div style=\"max-height:1000px;max-width:1500px;overflow:auto;\">\n",
       "<table border=\"1\" class=\"dataframe\">\n",
       "  <thead>\n",
       "    <tr style=\"text-align: right;\">\n",
       "      <th></th>\n",
       "      <th>FIPS</th>\n",
       "      <th>lat</th>\n",
       "      <th>lon</th>\n",
       "      <th>index</th>\n",
       "      <th>GEO.id</th>\n",
       "      <th>GEO.id2</th>\n",
       "      <th>GEO.display-label</th>\n",
       "      <th>D001</th>\n",
       "    </tr>\n",
       "  </thead>\n",
       "  <tbody>\n",
       "    <tr>\n",
       "      <th>0</th>\n",
       "      <td>360850009001000</td>\n",
       "      <td>40.644078</td>\n",
       "      <td>-74.080592</td>\n",
       "      <td>113</td>\n",
       "      <td>1000000US360850009001000</td>\n",
       "      <td>360850009001000</td>\n",
       "      <td>Block 1000, Block Group 1, Census Tract 9, Ric...</td>\n",
       "      <td>97</td>\n",
       "    </tr>\n",
       "    <tr>\n",
       "      <th>1</th>\n",
       "      <td>360850020011000</td>\n",
       "      <td>40.610892</td>\n",
       "      <td>-74.071479</td>\n",
       "      <td>204</td>\n",
       "      <td>1000000US360850020011000</td>\n",
       "      <td>360850020011000</td>\n",
       "      <td>Block 1000, Block Group 1, Census Tract 20.01,...</td>\n",
       "      <td>66</td>\n",
       "    </tr>\n",
       "    <tr>\n",
       "      <th>2</th>\n",
       "      <td>360850027001000</td>\n",
       "      <td>40.626236</td>\n",
       "      <td>-74.076504</td>\n",
       "      <td>339</td>\n",
       "      <td>1000000US360850027001000</td>\n",
       "      <td>360850027001000</td>\n",
       "      <td>Block 1000, Block Group 1, Census Tract 27, Ri...</td>\n",
       "      <td>297</td>\n",
       "    </tr>\n",
       "    <tr>\n",
       "      <th>3</th>\n",
       "      <td>360850040001000</td>\n",
       "      <td>40.611064</td>\n",
       "      <td>-74.088017</td>\n",
       "      <td>438</td>\n",
       "      <td>1000000US360850040001000</td>\n",
       "      <td>360850040001000</td>\n",
       "      <td>Block 1000, Block Group 1, Census Tract 40, Ri...</td>\n",
       "      <td>62</td>\n",
       "    </tr>\n",
       "    <tr>\n",
       "      <th>4</th>\n",
       "      <td>360850064001000</td>\n",
       "      <td>40.600955</td>\n",
       "      <td>-74.077923</td>\n",
       "      <td>634</td>\n",
       "      <td>1000000US360850064001000</td>\n",
       "      <td>360850064001000</td>\n",
       "      <td>Block 1000, Block Group 1, Census Tract 64, Ri...</td>\n",
       "      <td>62</td>\n",
       "    </tr>\n",
       "  </tbody>\n",
       "</table>\n",
       "</div>"
      ],
      "text/plain": [
       "              FIPS        lat        lon  index                    GEO.id  \\\n",
       "0  360850009001000  40.644078 -74.080592    113  1000000US360850009001000   \n",
       "1  360850020011000  40.610892 -74.071479    204  1000000US360850020011000   \n",
       "2  360850027001000  40.626236 -74.076504    339  1000000US360850027001000   \n",
       "3  360850040001000  40.611064 -74.088017    438  1000000US360850040001000   \n",
       "4  360850064001000  40.600955 -74.077923    634  1000000US360850064001000   \n",
       "\n",
       "           GEO.id2                                  GEO.display-label D001  \n",
       "0  360850009001000  Block 1000, Block Group 1, Census Tract 9, Ric...   97  \n",
       "1  360850020011000  Block 1000, Block Group 1, Census Tract 20.01,...   66  \n",
       "2  360850027001000  Block 1000, Block Group 1, Census Tract 27, Ri...  297  \n",
       "3  360850040001000  Block 1000, Block Group 1, Census Tract 40, Ri...   62  \n",
       "4  360850064001000  Block 1000, Block Group 1, Census Tract 64, Ri...   62  "
      ]
     },
     "execution_count": 104,
     "metadata": {},
     "output_type": "execute_result"
    }
   ],
   "source": [
    "foo.head()"
   ]
  },
  {
   "cell_type": "code",
   "execution_count": 105,
   "metadata": {
    "collapsed": false
   },
   "outputs": [],
   "source": [
    "pop['GEO.id2'] = pop['GEO.id2'].astype(str)"
   ]
  },
  {
   "cell_type": "code",
   "execution_count": 106,
   "metadata": {
    "collapsed": false
   },
   "outputs": [],
   "source": [
    "pop.drop(0, axis=0, inplace=True)"
   ]
  },
  {
   "cell_type": "code",
   "execution_count": 107,
   "metadata": {
    "collapsed": false
   },
   "outputs": [
    {
     "name": "stderr",
     "output_type": "stream",
     "text": [
      "/opt/rh/anaconda/root/lib/python2.7/site-packages/ipykernel/__main__.py:1: SettingWithCopyWarning: \n",
      "A value is trying to be set on a copy of a slice from a DataFrame.\n",
      "Try using .loc[row_indexer,col_indexer] = value instead\n",
      "\n",
      "See the the caveats in the documentation: http://pandas.pydata.org/pandas-docs/stable/indexing.html#indexing-view-versus-copy\n",
      "  if __name__ == '__main__':\n"
     ]
    }
   ],
   "source": [
    "cb_required['FIPS'] = cb_required['FIPS'].astype(str)"
   ]
  },
  {
   "cell_type": "code",
   "execution_count": 108,
   "metadata": {
    "collapsed": false
   },
   "outputs": [],
   "source": [
    "pop.reset_index(inplace=True)"
   ]
  },
  {
   "cell_type": "code",
   "execution_count": 109,
   "metadata": {
    "collapsed": false
   },
   "outputs": [
    {
     "data": {
      "text/plain": [
       "'360470001001001'"
      ]
     },
     "execution_count": 109,
     "metadata": {},
     "output_type": "execute_result"
    }
   ],
   "source": [
    "(pop['GEO.id2'][0])"
   ]
  },
  {
   "cell_type": "code",
   "execution_count": 110,
   "metadata": {
    "collapsed": false
   },
   "outputs": [
    {
     "data": {
      "text/plain": [
       "'360850009001000'"
      ]
     },
     "execution_count": 110,
     "metadata": {},
     "output_type": "execute_result"
    }
   ],
   "source": [
    "(cb_required['FIPS'][0])"
   ]
  },
  {
   "cell_type": "code",
   "execution_count": 80,
   "metadata": {
    "collapsed": false
   },
   "outputs": [],
   "source": [
    "foo.rename(columns={'$FIPS' : 'code'}, inplace=True)"
   ]
  },
  {
   "cell_type": "code",
   "execution_count": 112,
   "metadata": {
    "collapsed": false
   },
   "outputs": [],
   "source": [
    "foo.columns = [u'code', u'lat', u'lon', u'index', u'GEO.id', u'GEO.id2',\n",
    "       u'GEO.display-label', u'acs_pop']"
   ]
  },
  {
   "cell_type": "code",
   "execution_count": 113,
   "metadata": {
    "collapsed": false
   },
   "outputs": [
    {
     "data": {
      "text/html": [
       "<div style=\"max-height:1000px;max-width:1500px;overflow:auto;\">\n",
       "<table border=\"1\" class=\"dataframe\">\n",
       "  <thead>\n",
       "    <tr style=\"text-align: right;\">\n",
       "      <th></th>\n",
       "      <th>code</th>\n",
       "      <th>lat</th>\n",
       "      <th>lon</th>\n",
       "      <th>index</th>\n",
       "      <th>GEO.id</th>\n",
       "      <th>GEO.id2</th>\n",
       "      <th>GEO.display-label</th>\n",
       "      <th>acs_pop</th>\n",
       "    </tr>\n",
       "  </thead>\n",
       "  <tbody>\n",
       "    <tr>\n",
       "      <th>0</th>\n",
       "      <td>360850009001000</td>\n",
       "      <td>40.644078</td>\n",
       "      <td>-74.080592</td>\n",
       "      <td>113</td>\n",
       "      <td>1000000US360850009001000</td>\n",
       "      <td>360850009001000</td>\n",
       "      <td>Block 1000, Block Group 1, Census Tract 9, Ric...</td>\n",
       "      <td>97</td>\n",
       "    </tr>\n",
       "    <tr>\n",
       "      <th>1</th>\n",
       "      <td>360850020011000</td>\n",
       "      <td>40.610892</td>\n",
       "      <td>-74.071479</td>\n",
       "      <td>204</td>\n",
       "      <td>1000000US360850020011000</td>\n",
       "      <td>360850020011000</td>\n",
       "      <td>Block 1000, Block Group 1, Census Tract 20.01,...</td>\n",
       "      <td>66</td>\n",
       "    </tr>\n",
       "    <tr>\n",
       "      <th>2</th>\n",
       "      <td>360850027001000</td>\n",
       "      <td>40.626236</td>\n",
       "      <td>-74.076504</td>\n",
       "      <td>339</td>\n",
       "      <td>1000000US360850027001000</td>\n",
       "      <td>360850027001000</td>\n",
       "      <td>Block 1000, Block Group 1, Census Tract 27, Ri...</td>\n",
       "      <td>297</td>\n",
       "    </tr>\n",
       "    <tr>\n",
       "      <th>3</th>\n",
       "      <td>360850040001000</td>\n",
       "      <td>40.611064</td>\n",
       "      <td>-74.088017</td>\n",
       "      <td>438</td>\n",
       "      <td>1000000US360850040001000</td>\n",
       "      <td>360850040001000</td>\n",
       "      <td>Block 1000, Block Group 1, Census Tract 40, Ri...</td>\n",
       "      <td>62</td>\n",
       "    </tr>\n",
       "    <tr>\n",
       "      <th>4</th>\n",
       "      <td>360850064001000</td>\n",
       "      <td>40.600955</td>\n",
       "      <td>-74.077923</td>\n",
       "      <td>634</td>\n",
       "      <td>1000000US360850064001000</td>\n",
       "      <td>360850064001000</td>\n",
       "      <td>Block 1000, Block Group 1, Census Tract 64, Ri...</td>\n",
       "      <td>62</td>\n",
       "    </tr>\n",
       "  </tbody>\n",
       "</table>\n",
       "</div>"
      ],
      "text/plain": [
       "              code        lat        lon  index                    GEO.id  \\\n",
       "0  360850009001000  40.644078 -74.080592    113  1000000US360850009001000   \n",
       "1  360850020011000  40.610892 -74.071479    204  1000000US360850020011000   \n",
       "2  360850027001000  40.626236 -74.076504    339  1000000US360850027001000   \n",
       "3  360850040001000  40.611064 -74.088017    438  1000000US360850040001000   \n",
       "4  360850064001000  40.600955 -74.077923    634  1000000US360850064001000   \n",
       "\n",
       "           GEO.id2                                  GEO.display-label acs_pop  \n",
       "0  360850009001000  Block 1000, Block Group 1, Census Tract 9, Ric...      97  \n",
       "1  360850020011000  Block 1000, Block Group 1, Census Tract 20.01,...      66  \n",
       "2  360850027001000  Block 1000, Block Group 1, Census Tract 27, Ri...     297  \n",
       "3  360850040001000  Block 1000, Block Group 1, Census Tract 40, Ri...      62  \n",
       "4  360850064001000  Block 1000, Block Group 1, Census Tract 64, Ri...      62  "
      ]
     },
     "execution_count": 113,
     "metadata": {},
     "output_type": "execute_result"
    }
   ],
   "source": [
    "foo.head()"
   ]
  },
  {
   "cell_type": "code",
   "execution_count": 114,
   "metadata": {
    "collapsed": true
   },
   "outputs": [],
   "source": [
    "cb_nyc = foo[['lat', 'lon', 'code', 'acs_pop']]"
   ]
  },
  {
   "cell_type": "code",
   "execution_count": 115,
   "metadata": {
    "collapsed": false
   },
   "outputs": [
    {
     "data": {
      "text/html": [
       "<div style=\"max-height:1000px;max-width:1500px;overflow:auto;\">\n",
       "<table border=\"1\" class=\"dataframe\">\n",
       "  <thead>\n",
       "    <tr style=\"text-align: right;\">\n",
       "      <th></th>\n",
       "      <th>lat</th>\n",
       "      <th>lon</th>\n",
       "      <th>code</th>\n",
       "      <th>acs_pop</th>\n",
       "    </tr>\n",
       "  </thead>\n",
       "  <tbody>\n",
       "    <tr>\n",
       "      <th>0</th>\n",
       "      <td>40.644078</td>\n",
       "      <td>-74.080592</td>\n",
       "      <td>360850009001000</td>\n",
       "      <td>97</td>\n",
       "    </tr>\n",
       "    <tr>\n",
       "      <th>1</th>\n",
       "      <td>40.610892</td>\n",
       "      <td>-74.071479</td>\n",
       "      <td>360850020011000</td>\n",
       "      <td>66</td>\n",
       "    </tr>\n",
       "    <tr>\n",
       "      <th>2</th>\n",
       "      <td>40.626236</td>\n",
       "      <td>-74.076504</td>\n",
       "      <td>360850027001000</td>\n",
       "      <td>297</td>\n",
       "    </tr>\n",
       "    <tr>\n",
       "      <th>3</th>\n",
       "      <td>40.611064</td>\n",
       "      <td>-74.088017</td>\n",
       "      <td>360850040001000</td>\n",
       "      <td>62</td>\n",
       "    </tr>\n",
       "    <tr>\n",
       "      <th>4</th>\n",
       "      <td>40.600955</td>\n",
       "      <td>-74.077923</td>\n",
       "      <td>360850064001000</td>\n",
       "      <td>62</td>\n",
       "    </tr>\n",
       "  </tbody>\n",
       "</table>\n",
       "</div>"
      ],
      "text/plain": [
       "         lat        lon             code acs_pop\n",
       "0  40.644078 -74.080592  360850009001000      97\n",
       "1  40.610892 -74.071479  360850020011000      66\n",
       "2  40.626236 -74.076504  360850027001000     297\n",
       "3  40.611064 -74.088017  360850040001000      62\n",
       "4  40.600955 -74.077923  360850064001000      62"
      ]
     },
     "execution_count": 115,
     "metadata": {},
     "output_type": "execute_result"
    }
   ],
   "source": [
    "cb_nyc.head()"
   ]
  },
  {
   "cell_type": "code",
   "execution_count": 116,
   "metadata": {
    "collapsed": true
   },
   "outputs": [],
   "source": [
    "cb_nyc.to_csv('../accessibility/otp-routing/input_data/zcb_nyc.csv', index=False)"
   ]
  },
  {
   "cell_type": "code",
   "execution_count": null,
   "metadata": {
    "collapsed": true
   },
   "outputs": [],
   "source": []
  }
 ],
 "metadata": {
  "kernelspec": {
   "display_name": "Python 2",
   "language": "python",
   "name": "python2"
  },
  "language_info": {
   "codemirror_mode": {
    "name": "ipython",
    "version": 2
   },
   "file_extension": ".py",
   "mimetype": "text/x-python",
   "name": "python",
   "nbconvert_exporter": "python",
   "pygments_lexer": "ipython2",
   "version": "2.7.11"
  }
 },
 "nbformat": 4,
 "nbformat_minor": 0
}
