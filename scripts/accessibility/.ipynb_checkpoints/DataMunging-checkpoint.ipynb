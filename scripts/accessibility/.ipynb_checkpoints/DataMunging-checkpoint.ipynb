{
 "cells": [
  {
   "cell_type": "markdown",
   "metadata": {},
   "source": [
    "# Data munging for input into otp routing"
   ]
  },
  {
   "cell_type": "code",
   "execution_count": null,
   "metadata": {
    "collapsed": true
   },
   "outputs": [],
   "source": [
    "import pandas as pd\n",
    "import numpy as np\n",
    "import geopandas as gp\n",
    "import matplotlib.pyplot as plt\n",
    "\n",
    "%matplotlib inline"
   ]
  },
  {
   "cell_type": "code",
   "execution_count": 3,
   "metadata": {
    "collapsed": false
   },
   "outputs": [],
   "source": [
    "#Data Reading\n",
    "pop_bk = pd.read_csv('../../data/general/census_blocks/brooklyn/DEC_10_SF1_P1_with_ann.csv')\n",
    "pop_bx = pd.read_csv('../../data/general/census_blocks/queens/DEC_10_SF1_P1_with_ann.csv')\n",
    "pop_mn = pd.read_csv('../../data/general/census_blocks/bronx/DEC_10_SF1_P1_with_ann.csv')\n",
    "pop_qu = pd.read_csv('../../data/general/census_blocks/manhattan/DEC_10_SF1_P1_with_ann.csv')\n",
    "pop_si = pd.read_csv('../../data/general/census_blocks/si/DEC_10_SF1_P1_with_ann.csv')\n",
    "\n",
    "cb = gp.GeoDataFrame.from_file('../../data/nycb2010wi_16b/nycb2010wi.shp')"
   ]
  },
  {
   "cell_type": "code",
   "execution_count": null,
   "metadata": {
    "collapsed": false
   },
   "outputs": [],
   "source": [
    "print pop"
   ]
  },
  {
   "cell_type": "code",
   "execution_count": null,
   "metadata": {
    "collapsed": true
   },
   "outputs": [],
   "source": []
  },
  {
   "cell_type": "code",
   "execution_count": null,
   "metadata": {
    "collapsed": true
   },
   "outputs": [],
   "source": []
  },
  {
   "cell_type": "code",
   "execution_count": null,
   "metadata": {
    "collapsed": true
   },
   "outputs": [],
   "source": []
  }
 ],
 "metadata": {
  "kernelspec": {
   "display_name": "Python 2",
   "language": "python",
   "name": "python2"
  },
  "language_info": {
   "codemirror_mode": {
    "name": "ipython",
    "version": 2
   },
   "file_extension": ".py",
   "mimetype": "text/x-python",
   "name": "python",
   "nbconvert_exporter": "python",
   "pygments_lexer": "ipython2",
   "version": "2.7.11"
  }
 },
 "nbformat": 4,
 "nbformat_minor": 0
}
